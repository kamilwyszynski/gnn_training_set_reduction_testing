{
  "nbformat": 4,
  "nbformat_minor": 0,
  "metadata": {
    "colab": {
      "name": "GNN_training_set_reduction.ipynb",
      "provenance": [],
      "collapsed_sections": [
        "wuCxBBDDL88a",
        "miLJkoYwwsbS",
        "0PkRDv1GgVEW",
        "K83X9n_mgeyJ",
        "cIbvX6SOqb4Y",
        "XZhv24B1fnWR",
        "N_A4dNNxqSnQ"
      ],
      "toc_visible": true,
      "authorship_tag": "ABX9TyMFzeswFHcNvSOuQBtW9xUi",
      "include_colab_link": true
    },
    "kernelspec": {
      "name": "python3",
      "display_name": "Python 3"
    },
    "accelerator": "GPU"
  },
  "cells": [
    {
      "cell_type": "markdown",
      "metadata": {
        "id": "view-in-github",
        "colab_type": "text"
      },
      "source": [
        "<a href=\"https://colab.research.google.com/github/kamilwyszynski/gnn_training_set_reduction_testing/blob/main/GNN_training_set_reduction.ipynb\" target=\"_parent\"><img src=\"https://colab.research.google.com/assets/colab-badge.svg\" alt=\"Open In Colab\"/></a>"
      ]
    },
    {
      "cell_type": "markdown",
      "metadata": {
        "id": "kCS8vwDL423y"
      },
      "source": [
        "# Environment setup"
      ]
    },
    {
      "cell_type": "markdown",
      "metadata": {
        "id": "wuCxBBDDL88a"
      },
      "source": [
        "### Installations"
      ]
    },
    {
      "cell_type": "code",
      "metadata": {
        "colab": {
          "base_uri": "https://localhost:8080/"
        },
        "id": "2JgaKBUxAnPm",
        "outputId": "3eba4fec-2414-43a0-b0f0-e8953851c2bf"
      },
      "source": [
        "!pip install --upgrade pip\n",
        "!pip install torch-geometric\n",
        "!pip install torch-scatter -f https://pytorch-geometric.com/whl/torch-1.7.0+cu101.html\n",
        "!pip install torch_sparse -f https://pytorch-geometric.com/whl/torch-1.7.0+cu101.html\n",
        "!pip install torch-cluster -f https://pytorch-geometric.com/whl/torch-1.7.0+cu101.html"
      ],
      "execution_count": 2,
      "outputs": [
        {
          "output_type": "stream",
          "text": [
            "Collecting pip\n",
            "\u001b[?25l  Downloading https://files.pythonhosted.org/packages/de/47/58b9f3e6f611dfd17fb8bd9ed3e6f93b7ee662fb85bdfee3565e8979ddf7/pip-21.0-py3-none-any.whl (1.5MB)\n",
            "\u001b[K     |████████████████████████████████| 1.5MB 8.6MB/s \n",
            "\u001b[?25hInstalling collected packages: pip\n",
            "  Found existing installation: pip 19.3.1\n",
            "    Uninstalling pip-19.3.1:\n",
            "      Successfully uninstalled pip-19.3.1\n",
            "Successfully installed pip-21.0\n",
            "Collecting torch-geometric\n",
            "  Downloading torch_geometric-1.6.3.tar.gz (186 kB)\n",
            "\u001b[K     |████████████████████████████████| 186 kB 9.2 MB/s \n",
            "\u001b[?25hRequirement already satisfied: torch in /usr/local/lib/python3.6/dist-packages (from torch-geometric) (1.7.0+cu101)\n",
            "Requirement already satisfied: numpy in /usr/local/lib/python3.6/dist-packages (from torch-geometric) (1.19.5)\n",
            "Requirement already satisfied: tqdm in /usr/local/lib/python3.6/dist-packages (from torch-geometric) (4.41.1)\n",
            "Requirement already satisfied: scipy in /usr/local/lib/python3.6/dist-packages (from torch-geometric) (1.4.1)\n",
            "Requirement already satisfied: networkx in /usr/local/lib/python3.6/dist-packages (from torch-geometric) (2.5)\n",
            "Requirement already satisfied: python-louvain in /usr/local/lib/python3.6/dist-packages (from torch-geometric) (0.15)\n",
            "Requirement already satisfied: scikit-learn in /usr/local/lib/python3.6/dist-packages (from torch-geometric) (0.22.2.post1)\n",
            "Requirement already satisfied: numba in /usr/local/lib/python3.6/dist-packages (from torch-geometric) (0.48.0)\n",
            "Requirement already satisfied: requests in /usr/local/lib/python3.6/dist-packages (from torch-geometric) (2.23.0)\n",
            "Requirement already satisfied: pandas in /usr/local/lib/python3.6/dist-packages (from torch-geometric) (1.1.5)\n",
            "Collecting rdflib\n",
            "  Downloading rdflib-5.0.0-py3-none-any.whl (231 kB)\n",
            "\u001b[K     |████████████████████████████████| 231 kB 15.7 MB/s \n",
            "\u001b[?25hRequirement already satisfied: h5py in /usr/local/lib/python3.6/dist-packages (from torch-geometric) (2.10.0)\n",
            "Requirement already satisfied: googledrivedownloader in /usr/local/lib/python3.6/dist-packages (from torch-geometric) (0.4)\n",
            "Collecting ase\n",
            "  Downloading ase-3.21.0-py3-none-any.whl (2.2 MB)\n",
            "\u001b[K     |████████████████████████████████| 2.2 MB 15.5 MB/s \n",
            "\u001b[?25hRequirement already satisfied: jinja2 in /usr/local/lib/python3.6/dist-packages (from torch-geometric) (2.11.2)\n",
            "Requirement already satisfied: matplotlib>=2.0.0 in /usr/local/lib/python3.6/dist-packages (from ase->torch-geometric) (3.2.2)\n",
            "Requirement already satisfied: cycler>=0.10 in /usr/local/lib/python3.6/dist-packages (from matplotlib>=2.0.0->ase->torch-geometric) (0.10.0)\n",
            "Requirement already satisfied: pyparsing!=2.0.4,!=2.1.2,!=2.1.6,>=2.0.1 in /usr/local/lib/python3.6/dist-packages (from matplotlib>=2.0.0->ase->torch-geometric) (2.4.7)\n",
            "Requirement already satisfied: python-dateutil>=2.1 in /usr/local/lib/python3.6/dist-packages (from matplotlib>=2.0.0->ase->torch-geometric) (2.8.1)\n",
            "Requirement already satisfied: kiwisolver>=1.0.1 in /usr/local/lib/python3.6/dist-packages (from matplotlib>=2.0.0->ase->torch-geometric) (1.3.1)\n",
            "Requirement already satisfied: six in /usr/local/lib/python3.6/dist-packages (from cycler>=0.10->matplotlib>=2.0.0->ase->torch-geometric) (1.15.0)\n",
            "Requirement already satisfied: MarkupSafe>=0.23 in /usr/local/lib/python3.6/dist-packages (from jinja2->torch-geometric) (1.1.1)\n",
            "Requirement already satisfied: decorator>=4.3.0 in /usr/local/lib/python3.6/dist-packages (from networkx->torch-geometric) (4.4.2)\n",
            "Requirement already satisfied: setuptools in /usr/local/lib/python3.6/dist-packages (from numba->torch-geometric) (51.3.3)\n",
            "Requirement already satisfied: llvmlite<0.32.0,>=0.31.0dev0 in /usr/local/lib/python3.6/dist-packages (from numba->torch-geometric) (0.31.0)\n",
            "Requirement already satisfied: pytz>=2017.2 in /usr/local/lib/python3.6/dist-packages (from pandas->torch-geometric) (2018.9)\n",
            "Collecting isodate\n",
            "  Downloading isodate-0.6.0-py2.py3-none-any.whl (45 kB)\n",
            "\u001b[K     |████████████████████████████████| 45 kB 3.7 MB/s \n",
            "\u001b[?25hRequirement already satisfied: urllib3!=1.25.0,!=1.25.1,<1.26,>=1.21.1 in /usr/local/lib/python3.6/dist-packages (from requests->torch-geometric) (1.24.3)\n",
            "Requirement already satisfied: certifi>=2017.4.17 in /usr/local/lib/python3.6/dist-packages (from requests->torch-geometric) (2020.12.5)\n",
            "Requirement already satisfied: idna<3,>=2.5 in /usr/local/lib/python3.6/dist-packages (from requests->torch-geometric) (2.10)\n",
            "Requirement already satisfied: chardet<4,>=3.0.2 in /usr/local/lib/python3.6/dist-packages (from requests->torch-geometric) (3.0.4)\n",
            "Requirement already satisfied: joblib>=0.11 in /usr/local/lib/python3.6/dist-packages (from scikit-learn->torch-geometric) (1.0.0)\n",
            "Requirement already satisfied: typing-extensions in /usr/local/lib/python3.6/dist-packages (from torch->torch-geometric) (3.7.4.3)\n",
            "Requirement already satisfied: dataclasses in /usr/local/lib/python3.6/dist-packages (from torch->torch-geometric) (0.8)\n",
            "Requirement already satisfied: future in /usr/local/lib/python3.6/dist-packages (from torch->torch-geometric) (0.16.0)\n",
            "Building wheels for collected packages: torch-geometric\n",
            "  Building wheel for torch-geometric (setup.py) ... \u001b[?25l\u001b[?25hdone\n",
            "  Created wheel for torch-geometric: filename=torch_geometric-1.6.3-py3-none-any.whl size=322718 sha256=f505857ea1b2d102d49fed5a6e10073923ae1bd671f12d627f5228fcf06b6232\n",
            "  Stored in directory: /root/.cache/pip/wheels/55/be/05/a068e58b901163f619e69824868d3ca17171b1482446f585d8\n",
            "Successfully built torch-geometric\n",
            "Installing collected packages: isodate, rdflib, ase, torch-geometric\n",
            "Successfully installed ase-3.21.0 isodate-0.6.0 rdflib-5.0.0 torch-geometric-1.6.3\n",
            "Looking in links: https://pytorch-geometric.com/whl/torch-1.7.0+cu101.html\n",
            "Collecting torch-scatter\n",
            "  Downloading https://pytorch-geometric.com/whl/torch-1.7.0%2Bcu101/torch_scatter-2.0.5-cp36-cp36m-linux_x86_64.whl (11.9 MB)\n",
            "\u001b[K     |████████████████████████████████| 11.9 MB 166 kB/s \n",
            "\u001b[?25hInstalling collected packages: torch-scatter\n",
            "Successfully installed torch-scatter-2.0.5\n",
            "Looking in links: https://pytorch-geometric.com/whl/torch-1.7.0+cu101.html\n",
            "Collecting torch_sparse\n",
            "  Downloading https://pytorch-geometric.com/whl/torch-1.7.0%2Bcu101/torch_sparse-0.6.8-cp36-cp36m-linux_x86_64.whl (24.3 MB)\n",
            "\u001b[K     |████████████████████████████████| 24.3 MB 1.3 MB/s \n",
            "\u001b[?25hRequirement already satisfied: scipy in /usr/local/lib/python3.6/dist-packages (from torch_sparse) (1.4.1)\n",
            "Requirement already satisfied: numpy>=1.13.3 in /usr/local/lib/python3.6/dist-packages (from scipy->torch_sparse) (1.19.5)\n",
            "Installing collected packages: torch-sparse\n",
            "Successfully installed torch-sparse-0.6.8\n",
            "Looking in links: https://pytorch-geometric.com/whl/torch-1.7.0+cu101.html\n",
            "Collecting torch-cluster\n",
            "  Downloading https://pytorch-geometric.com/whl/torch-1.7.0%2Bcu101/torch_cluster-1.5.8-cp36-cp36m-linux_x86_64.whl (21.5 MB)\n",
            "\u001b[K     |████████████████████████████████| 21.5 MB 1.2 MB/s \n",
            "\u001b[?25hInstalling collected packages: torch-cluster\n",
            "Successfully installed torch-cluster-1.5.8\n"
          ],
          "name": "stdout"
        }
      ]
    },
    {
      "cell_type": "markdown",
      "metadata": {
        "id": "BMX1vBZLbTbI"
      },
      "source": [
        "### Modules"
      ]
    },
    {
      "cell_type": "code",
      "metadata": {
        "id": "_DnzjuAdbSnz",
        "colab": {
          "base_uri": "https://localhost:8080/",
          "height": 17
        },
        "outputId": "81cc5fc9-e8bd-4fa6-cd65-536acd678eda"
      },
      "source": [
        "import torch_geometric\n",
        "import numpy as np\n",
        "import pandas as pd\n",
        "import matplotlib.pyplot as plt\n",
        "import torch\n",
        "from torch.nn import Linear\n",
        "import torch.nn.functional as F\n",
        "from torch_geometric.nn import GCNConv\n",
        "from sklearn.model_selection import train_test_split\n",
        "from torch_geometric.datasets import Planetoid\n",
        "from torch_geometric.transforms import NormalizeFeatures\n",
        "from sklearn.manifold import TSNE\n",
        "%matplotlib inline\n",
        "from IPython.display import Javascript  # Restrict height of output cell.\n",
        "display(Javascript('''google.colab.output.setIframeHeight(0, true, {maxHeight: 150})'''))"
      ],
      "execution_count": 3,
      "outputs": [
        {
          "output_type": "display_data",
          "data": {
            "application/javascript": [
              "google.colab.output.setIframeHeight(0, true, {maxHeight: 150})"
            ],
            "text/plain": [
              "<IPython.core.display.Javascript object>"
            ]
          },
          "metadata": {
            "tags": []
          }
        }
      ]
    },
    {
      "cell_type": "markdown",
      "metadata": {
        "id": "K83X9n_mgeyJ"
      },
      "source": [
        "### Helper functions\n",
        "\n",
        "* `print_dataset_details` - \n",
        "* `get_base_prediction_rate` - \n",
        "* `train` - One-pass train function\n",
        "* `test` - Test function\n",
        "* `train_epochs` - Train process function that displays loss and accuracy info\n",
        "* `test_accuracy_distribution` - Function printing out the prediction accuracy accross different classes\n",
        "* `get_reduced_train_dataset` - Get a dataset with reduced train mask\n",
        "* `get_trained_gcn_model` - Create, train and return a model\n",
        "* `visualize` - Graph visualisation\n",
        "* `perform_test_series` - Perform an entire test set"
      ]
    },
    {
      "cell_type": "code",
      "metadata": {
        "id": "wWJvvPm8gSWj"
      },
      "source": [
        "def print_dataset_details(dataset):\n",
        "    print()\n",
        "    print(f'Dataset: {dataset}:')\n",
        "    print('======================')\n",
        "    print(f'Number of graphs: {len(dataset)}')\n",
        "    print(f'Number of features: {dataset.num_features}')\n",
        "    print(f'Number of classes: {dataset.num_classes}')\n",
        "\n",
        "    data = dataset[0]  # Get the first graph object.\n",
        "\n",
        "    print()\n",
        "    print(data)\n",
        "    print('===========================================================================================================')\n",
        "\n",
        "    # Gather some statistics about the graph.\n",
        "    print(f'Number of nodes: {data.num_nodes}')\n",
        "    print(f'Number of edges: {data.num_edges}')\n",
        "    print(f'Average node degree: {data.num_edges / data.num_nodes:.2f}')\n",
        "    print(f'Number of training nodes: {data.train_mask.sum()}')\n",
        "    print(f'Training node label rate: {int(data.train_mask.sum()) / data.num_nodes:.2f}')\n",
        "    print(f'Contains isolated nodes: {data.contains_isolated_nodes()}')\n",
        "    print(f'Contains self-loops: {data.contains_self_loops()}')\n",
        "    print(f'Is undirected: {data.is_undirected()}')\n",
        "\n",
        "def get_base_prediction_rate(data):\n",
        "    largest_class = max([np.sum(data.y.numpy() == i) for i in data.y.unique().numpy()])\n",
        "    return round(largest_class / len(data.y), 3)\n",
        "\n",
        "def train(model, data, optimizer, criterion):\n",
        "  model.train()\n",
        "  optimizer.zero_grad()  # Clear gradients.\n",
        "  out = model(data.x, data.edge_index)  # Perform a single forward pass.\n",
        "  loss = criterion(out[data.train_mask], data.y[data.train_mask])  # Compute the loss solely based on the training nodes.\n",
        "  loss.backward()  # Derive gradients.\n",
        "  optimizer.step()  # Update parameters based on gradients.\n",
        "  return loss\n",
        "\n",
        "def test(model, data):\n",
        "  model.eval()\n",
        "  out = model(data.x, data.edge_index)\n",
        "  pred = out.argmax(dim=1)  # Use the class with highest probability.\n",
        "  test_correct = pred[data.test_mask] == data.y[data.test_mask]  # Check against ground-truth labels.\n",
        "  test_acc = int(test_correct.sum()) / int(data.test_mask.sum())  # Derive ratio of correct predictions.\n",
        "  return test_acc\n",
        "\n",
        "def train_epochs(model, data, optimizer, criterion, epochs=100, checkpoints=[]):\n",
        "  for epoch in range(1, epochs+1):\n",
        "    loss = train(model, data, optimizer, criterion)\n",
        "\n",
        "    if epoch in checkpoints:\n",
        "      acc = test(model, data)\n",
        "      print(f'Epoch: {epoch:03d}\\n\\tLoss: {loss:.4f}\\n\\tAccuracy: {100*acc:.2f}\\n')\n",
        "\n",
        "def test_accuracy_distribution(model, data, print_details=False):\n",
        "    model.eval()\n",
        "    out = model(data.x, data.edge_index)\n",
        "    pred = out.argmax(dim=1)\n",
        "\n",
        "    correct_classes = data.y[data.test_mask]\n",
        "    predicted_classes = pred[data.test_mask]\n",
        "\n",
        "    test_correct = predicted_classes == correct_classes\n",
        "    correctly_predicted_classes = correct_classes[test_correct] # Get only correctly predicted\n",
        "\n",
        "    correctly_predicted = []\n",
        "    accuracy = []\n",
        "\n",
        "    display(Javascript('''google.colab.output.setIframeHeight(0, true, {maxHeight: 300})'''))\n",
        "    if print_details:\n",
        "        print('Test classes:')\n",
        "    for c in data.y.unique().numpy():\n",
        "        num_of_correct_nodes = (correctly_predicted_classes==c).sum()\n",
        "        num_of_test_nodes = (correct_classes==c).sum()\n",
        "        num_of_nodes = (data.y==c).sum()\n",
        "        if print:\n",
        "            print(f'\\nClass {c}: \\\n",
        "            \\n\\tCorrect nodes: {num_of_correct_nodes}\\\n",
        "            \\n\\tTest nodes: {num_of_test_nodes}\\\n",
        "            \\n\\tTest representation: {100*num_of_test_nodes/num_of_nodes:.2f}%\\\n",
        "            \\n\\tAccuracy: {100*num_of_correct_nodes/num_of_test_nodes:.2f}%')\n",
        "\n",
        "        accuracy.append(float(100*num_of_correct_nodes/num_of_test_nodes))\n",
        "        correctly_predicted.append(int(num_of_correct_nodes))\n",
        "\n",
        "    return accuracy, correctly_predicted\n",
        "\n",
        "def get_reduced_train_dataset(dataset, train_size):\n",
        "    data = dataset[0]\n",
        "    train_classes = data.y[data.train_mask].numpy()\n",
        "\n",
        "    if (type(train_size) == float) & (train_size == 1):\n",
        "        return data\n",
        "\n",
        "    # Create a stratified sample of the default train set\n",
        "    train_idx, _ = train_test_split(np.arange(len(train_classes)),\n",
        "                                    train_size=train_size,\n",
        "                                    stratify=train_classes)\n",
        "\n",
        "    new_train_mask = torch.zeros(data.num_nodes, dtype=torch.bool)\n",
        "    new_train_mask[train_idx] = True\n",
        "    data.train_mask = new_train_mask\n",
        "\n",
        "    # print(f'Number of new train nodes: {int(new_train_mask.sum())}')\n",
        "\n",
        "    return data\n",
        "\n",
        "def get_trained_gcn_model(dataset, train_size=1.0, hidden_channels=16):\n",
        "    # Get training data\n",
        "    data = get_reduced_train_dataset(dataset, train_size)\n",
        "\n",
        "    # Create model, opt and crit\n",
        "    model = GCN(hidden_channels=16, dataset=dataset)\n",
        "    optimizer = torch.optim.Adam(model.parameters(), lr=0.01, weight_decay=5e-4)\n",
        "    criterion = torch.nn.CrossEntropyLoss()\n",
        "\n",
        "    # train model\n",
        "    train_epochs(model, data, optimizer, criterion, epochs=200)\n",
        "\n",
        "    return model\n",
        "\n",
        "def visualize(h, color):\n",
        "    z = TSNE(n_components=2).fit_transform(out.detach().cpu().numpy())\n",
        "\n",
        "    plt.figure(figsize=(10,10))\n",
        "    plt.xticks([])\n",
        "    plt.yticks([])\n",
        "\n",
        "    plt.scatter(z[:, 0], z[:, 1], s=70, c=color, cmap=\"Set2\")\n",
        "    plt.show()\n",
        "\n",
        "def perform_test_series(dataset, train_sizes):\n",
        "    models = {}\n",
        "    accuracies = {}\n",
        "    class_accuracies = {}\n",
        "    correct_predtions = {}\n",
        "    number_of_training_nodes = {}\n",
        "\n",
        "    # train and test models\n",
        "    for i, train_size in enumerate(train_sizes, start=1):\n",
        "        # Getting data here only to count the number of training nodes\n",
        "        # There's probably a better way to do this\n",
        "        data = get_reduced_train_dataset(dataset, train_size)\n",
        "\n",
        "        model = get_trained_gcn_model(dataset, train_size)\n",
        "        acc, corr = test_accuracy_distribution(model, dataset[0])\n",
        "\n",
        "        models[f'Test {i}'] = model\n",
        "        accuracies[f'Test {i}'] = test(model, dataset[0])\n",
        "        class_accuracies[f'Test {i}'] = acc\n",
        "        correct_predtions[f'Test {i}'] = corr\n",
        "        number_of_training_nodes[f'Test {i}'] = int(data.train_mask.sum())\n",
        "\n",
        "    # compose dataframes\n",
        "    accuracy = pd.DataFrame({'Number of training nodes': number_of_training_nodes.values(),\n",
        "                             'Accuracy (%)':accuracies.values()},\n",
        "                            # columns=['Number of training nodes', 'Accuracy (%)'],\n",
        "                            index=accuracies.keys())\n",
        "    accuracy['Accuracy change (%)'] = accuracy['Accuracy (%)'].pct_change() * 100\n",
        "\n",
        "    class_accuracy = pd.DataFrame(class_accuracies).T\n",
        "    correct_predtion = pd.DataFrame(correct_predtions).T\n",
        "    \n",
        "    return {'accuracy': accuracy,\n",
        "            'class_accuracy': class_accuracy, \n",
        "            'correct_predtion': correct_predtion,\n",
        "            'models': models}"
      ],
      "execution_count": 4,
      "outputs": []
    },
    {
      "cell_type": "markdown",
      "metadata": {
        "id": "0PkRDv1GgVEW"
      },
      "source": [
        "### GCN model\n",
        "\n",
        "* Create a simple, reusable GCN model class"
      ]
    },
    {
      "cell_type": "code",
      "metadata": {
        "id": "cI5Bpqd-KuQD"
      },
      "source": [
        "class GCN(torch.nn.Module):\n",
        "    def __init__(self, hidden_channels, dataset):\n",
        "        super(GCN, self).__init__()\n",
        "        torch.manual_seed(12345)\n",
        "        self.conv1 = GCNConv(dataset.num_features, hidden_channels)\n",
        "        self.conv2 = GCNConv(hidden_channels, dataset.num_classes)\n",
        "\n",
        "    def forward(self, x, edge_index):\n",
        "        x = self.conv1(x, edge_index)\n",
        "        x = x.relu()\n",
        "        x = F.dropout(x, p=0.5, training=self.training)\n",
        "        x = self.conv2(x, edge_index)\n",
        "        return x"
      ],
      "execution_count": 5,
      "outputs": []
    },
    {
      "cell_type": "markdown",
      "metadata": {
        "id": "w1DMUJSGVHwE"
      },
      "source": [
        "# Cora Dataset"
      ]
    },
    {
      "cell_type": "markdown",
      "metadata": {
        "id": "miLJkoYwwsbS"
      },
      "source": [
        "### Dataset setup\n",
        "\n",
        "* Get the Cora dataset\n",
        "* Print out useful insights into the dataset"
      ]
    },
    {
      "cell_type": "code",
      "metadata": {
        "colab": {
          "base_uri": "https://localhost:8080/"
        },
        "id": "43MlgiHuKdZq",
        "outputId": "d4b44294-f282-467b-d60a-48d111cbba1b"
      },
      "source": [
        "cora = Planetoid(root='data/Planetoid', name='Cora', transform=NormalizeFeatures())\n",
        "print_dataset_details(cora)"
      ],
      "execution_count": 6,
      "outputs": [
        {
          "output_type": "stream",
          "text": [
            "Downloading https://github.com/kimiyoung/planetoid/raw/master/data/ind.cora.x\n",
            "Downloading https://github.com/kimiyoung/planetoid/raw/master/data/ind.cora.tx\n",
            "Downloading https://github.com/kimiyoung/planetoid/raw/master/data/ind.cora.allx\n",
            "Downloading https://github.com/kimiyoung/planetoid/raw/master/data/ind.cora.y\n",
            "Downloading https://github.com/kimiyoung/planetoid/raw/master/data/ind.cora.ty\n",
            "Downloading https://github.com/kimiyoung/planetoid/raw/master/data/ind.cora.ally\n",
            "Downloading https://github.com/kimiyoung/planetoid/raw/master/data/ind.cora.graph\n",
            "Downloading https://github.com/kimiyoung/planetoid/raw/master/data/ind.cora.test.index\n",
            "Processing...\n",
            "Done!\n",
            "\n",
            "Dataset: Cora():\n",
            "======================\n",
            "Number of graphs: 1\n",
            "Number of features: 1433\n",
            "Number of classes: 7\n",
            "\n",
            "Data(edge_index=[2, 10556], test_mask=[2708], train_mask=[2708], val_mask=[2708], x=[2708, 1433], y=[2708])\n",
            "===========================================================================================================\n",
            "Number of nodes: 2708\n",
            "Number of edges: 10556\n",
            "Average node degree: 3.90\n",
            "Number of training nodes: 140\n",
            "Training node label rate: 0.05\n",
            "Contains isolated nodes: False\n",
            "Contains self-loops: False\n",
            "Is undirected: True\n"
          ],
          "name": "stdout"
        }
      ]
    },
    {
      "cell_type": "markdown",
      "metadata": {
        "id": "cIbvX6SOqb4Y"
      },
      "source": [
        "### Train mask discovery\n",
        "\n",
        "* Gather useful insights about the dafault training mask"
      ]
    },
    {
      "cell_type": "code",
      "metadata": {
        "id": "awtLnp7yqfGn",
        "colab": {
          "base_uri": "https://localhost:8080/"
        },
        "outputId": "2c0a4918-994a-4eb6-8e9f-43fd6deadd84"
      },
      "source": [
        "data = cora[0]\n",
        "default_training_mask = data.train_mask # Boolean Tensor\n",
        "train_indices = default_training_mask.nonzero().flatten() # First 140 indices are train nodes"
      ],
      "execution_count": 7,
      "outputs": [
        {
          "output_type": "stream",
          "text": [
            "/usr/local/lib/python3.6/dist-packages/ipykernel_launcher.py:3: UserWarning: This overload of nonzero is deprecated:\n",
            "\tnonzero()\n",
            "Consider using one of the following signatures instead:\n",
            "\tnonzero(*, bool as_tuple) (Triggered internally at  /pytorch/torch/csrc/utils/python_arg_parser.cpp:882.)\n",
            "  This is separate from the ipykernel package so we can avoid doing imports until\n"
          ],
          "name": "stderr"
        }
      ]
    },
    {
      "cell_type": "code",
      "metadata": {
        "colab": {
          "base_uri": "https://localhost:8080/",
          "height": 300
        },
        "id": "t1fLooQfu7yR",
        "outputId": "021530e6-ae3d-4c2c-9beb-dac9c42ed095"
      },
      "source": [
        "train_classes = data.y[train_indices]\n",
        "\n",
        "display(Javascript('''google.colab.output.setIframeHeight(0, true, {maxHeight: 300})'''))\n",
        "print('Training classes:')\n",
        "for c in train_classes.unique():\n",
        "    num_of_train_nodes = (train_classes==c).sum()\n",
        "    num_of_nodes = (data.y==c).sum()\n",
        "    print(f'\\nClass {c}: \\\n",
        "    \\n\\tTrain nodes: {num_of_train_nodes}\\\n",
        "    \\n\\tOverall nodes: {num_of_nodes}\\\n",
        "    \\n\\tTraining representation: {100*num_of_train_nodes/num_of_nodes:.2f}%')"
      ],
      "execution_count": 8,
      "outputs": [
        {
          "output_type": "display_data",
          "data": {
            "application/javascript": [
              "google.colab.output.setIframeHeight(0, true, {maxHeight: 300})"
            ],
            "text/plain": [
              "<IPython.core.display.Javascript object>"
            ]
          },
          "metadata": {
            "tags": []
          }
        },
        {
          "output_type": "stream",
          "text": [
            "Training classes:\n",
            "\n",
            "Class 0:     \n",
            "\tTrain nodes: 20    \n",
            "\tOverall nodes: 351    \n",
            "\tTraining representation: 5.70%\n",
            "\n",
            "Class 1:     \n",
            "\tTrain nodes: 20    \n",
            "\tOverall nodes: 217    \n",
            "\tTraining representation: 9.22%\n",
            "\n",
            "Class 2:     \n",
            "\tTrain nodes: 20    \n",
            "\tOverall nodes: 418    \n",
            "\tTraining representation: 4.78%\n",
            "\n",
            "Class 3:     \n",
            "\tTrain nodes: 20    \n",
            "\tOverall nodes: 818    \n",
            "\tTraining representation: 2.44%\n",
            "\n",
            "Class 4:     \n",
            "\tTrain nodes: 20    \n",
            "\tOverall nodes: 426    \n",
            "\tTraining representation: 4.69%\n",
            "\n",
            "Class 5:     \n",
            "\tTrain nodes: 20    \n",
            "\tOverall nodes: 298    \n",
            "\tTraining representation: 6.71%\n",
            "\n",
            "Class 6:     \n",
            "\tTrain nodes: 20    \n",
            "\tOverall nodes: 180    \n",
            "\tTraining representation: 11.11%\n"
          ],
          "name": "stdout"
        }
      ]
    },
    {
      "cell_type": "markdown",
      "metadata": {
        "id": "_OmMFSDey8N4"
      },
      "source": [
        "### Base prediction rate\n",
        "\n",
        "This is an estimation of what is the lowest plausible accuracy for a specified datased "
      ]
    },
    {
      "cell_type": "code",
      "metadata": {
        "colab": {
          "base_uri": "https://localhost:8080/"
        },
        "id": "J6SSoEmfzTzy",
        "outputId": "48760051-1e5b-471a-887f-99d3d3afe701"
      },
      "source": [
        "get_base_prediction_rate(cora[0])"
      ],
      "execution_count": 9,
      "outputs": [
        {
          "output_type": "execute_result",
          "data": {
            "text/plain": [
              "0.302"
            ]
          },
          "metadata": {
            "tags": []
          },
          "execution_count": 9
        }
      ]
    },
    {
      "cell_type": "markdown",
      "metadata": {
        "id": "PicwXOg4S6TD"
      },
      "source": [
        "### Training set reduction\n",
        "\n",
        "* Training the GCN model on the Cora dataset training masks with the following sizes:\n",
        "    * __Test 1__: The default training mask\n",
        "    * __Test 2__: 75% of the default training mask\n",
        "    * __Test 3__: 50% of the default training mask\n",
        "    * __Test 4__: 25% of the default training mask\n",
        "    * __Test 5__: 28 nodes\n",
        "    * __Test 6__: 21 nodes\n",
        "    * __Test 7__: 14 nodes\n",
        "    * __Test 8__: 7 nodes (Smallest mask possible)"
      ]
    },
    {
      "cell_type": "code",
      "metadata": {
        "colab": {
          "base_uri": "https://localhost:8080/",
          "height": 300
        },
        "id": "gxep3l9pZEWs",
        "outputId": "9ce41892-dc10-4f48-ceda-d97cc68ea5e9"
      },
      "source": [
        "# There is an error when going below 7 (which is the number of classes)\n",
        "train_sizes = [1.0, 0.75, 0.5, 0.25] + [28, 21, 14, 7]\n",
        "cora_outcome = perform_test_series(cora, train_sizes)"
      ],
      "execution_count": 10,
      "outputs": [
        {
          "output_type": "display_data",
          "data": {
            "application/javascript": [
              "google.colab.output.setIframeHeight(0, true, {maxHeight: 300})"
            ],
            "text/plain": [
              "<IPython.core.display.Javascript object>"
            ]
          },
          "metadata": {
            "tags": []
          }
        },
        {
          "output_type": "stream",
          "text": [
            "\n",
            "Class 0:             \n",
            "\tCorrect nodes: 100            \n",
            "\tTest nodes: 130            \n",
            "\tTest representation: 37.04%            \n",
            "\tAccuracy: 76.92%\n",
            "\n",
            "Class 1:             \n",
            "\tCorrect nodes: 78            \n",
            "\tTest nodes: 91            \n",
            "\tTest representation: 41.94%            \n",
            "\tAccuracy: 85.71%\n",
            "\n",
            "Class 2:             \n",
            "\tCorrect nodes: 128            \n",
            "\tTest nodes: 144            \n",
            "\tTest representation: 34.45%            \n",
            "\tAccuracy: 88.89%\n",
            "\n",
            "Class 3:             \n",
            "\tCorrect nodes: 246            \n",
            "\tTest nodes: 319            \n",
            "\tTest representation: 39.00%            \n",
            "\tAccuracy: 77.12%\n",
            "\n",
            "Class 4:             \n",
            "\tCorrect nodes: 131            \n",
            "\tTest nodes: 149            \n",
            "\tTest representation: 34.98%            \n",
            "\tAccuracy: 87.92%\n",
            "\n",
            "Class 5:             \n",
            "\tCorrect nodes: 81            \n",
            "\tTest nodes: 103            \n",
            "\tTest representation: 34.56%            \n",
            "\tAccuracy: 78.64%\n",
            "\n",
            "Class 6:             \n",
            "\tCorrect nodes: 50            \n",
            "\tTest nodes: 64            \n",
            "\tTest representation: 35.56%            \n",
            "\tAccuracy: 78.12%\n"
          ],
          "name": "stdout"
        },
        {
          "output_type": "display_data",
          "data": {
            "application/javascript": [
              "google.colab.output.setIframeHeight(0, true, {maxHeight: 300})"
            ],
            "text/plain": [
              "<IPython.core.display.Javascript object>"
            ]
          },
          "metadata": {
            "tags": []
          }
        },
        {
          "output_type": "stream",
          "text": [
            "\n",
            "Class 0:             \n",
            "\tCorrect nodes: 104            \n",
            "\tTest nodes: 130            \n",
            "\tTest representation: 37.04%            \n",
            "\tAccuracy: 80.00%\n",
            "\n",
            "Class 1:             \n",
            "\tCorrect nodes: 76            \n",
            "\tTest nodes: 91            \n",
            "\tTest representation: 41.94%            \n",
            "\tAccuracy: 83.52%\n",
            "\n",
            "Class 2:             \n",
            "\tCorrect nodes: 123            \n",
            "\tTest nodes: 144            \n",
            "\tTest representation: 34.45%            \n",
            "\tAccuracy: 85.42%\n",
            "\n",
            "Class 3:             \n",
            "\tCorrect nodes: 215            \n",
            "\tTest nodes: 319            \n",
            "\tTest representation: 39.00%            \n",
            "\tAccuracy: 67.40%\n",
            "\n",
            "Class 4:             \n",
            "\tCorrect nodes: 129            \n",
            "\tTest nodes: 149            \n",
            "\tTest representation: 34.98%            \n",
            "\tAccuracy: 86.58%\n",
            "\n",
            "Class 5:             \n",
            "\tCorrect nodes: 77            \n",
            "\tTest nodes: 103            \n",
            "\tTest representation: 34.56%            \n",
            "\tAccuracy: 74.76%\n",
            "\n",
            "Class 6:             \n",
            "\tCorrect nodes: 42            \n",
            "\tTest nodes: 64            \n",
            "\tTest representation: 35.56%            \n",
            "\tAccuracy: 65.62%\n"
          ],
          "name": "stdout"
        },
        {
          "output_type": "display_data",
          "data": {
            "application/javascript": [
              "google.colab.output.setIframeHeight(0, true, {maxHeight: 300})"
            ],
            "text/plain": [
              "<IPython.core.display.Javascript object>"
            ]
          },
          "metadata": {
            "tags": []
          }
        },
        {
          "output_type": "stream",
          "text": [
            "\n",
            "Class 0:             \n",
            "\tCorrect nodes: 115            \n",
            "\tTest nodes: 130            \n",
            "\tTest representation: 37.04%            \n",
            "\tAccuracy: 88.46%\n",
            "\n",
            "Class 1:             \n",
            "\tCorrect nodes: 74            \n",
            "\tTest nodes: 91            \n",
            "\tTest representation: 41.94%            \n",
            "\tAccuracy: 81.32%\n",
            "\n",
            "Class 2:             \n",
            "\tCorrect nodes: 131            \n",
            "\tTest nodes: 144            \n",
            "\tTest representation: 34.45%            \n",
            "\tAccuracy: 90.97%\n",
            "\n",
            "Class 3:             \n",
            "\tCorrect nodes: 242            \n",
            "\tTest nodes: 319            \n",
            "\tTest representation: 39.00%            \n",
            "\tAccuracy: 75.86%\n",
            "\n",
            "Class 4:             \n",
            "\tCorrect nodes: 108            \n",
            "\tTest nodes: 149            \n",
            "\tTest representation: 34.98%            \n",
            "\tAccuracy: 72.48%\n",
            "\n",
            "Class 5:             \n",
            "\tCorrect nodes: 71            \n",
            "\tTest nodes: 103            \n",
            "\tTest representation: 34.56%            \n",
            "\tAccuracy: 68.93%\n",
            "\n",
            "Class 6:             \n",
            "\tCorrect nodes: 31            \n",
            "\tTest nodes: 64            \n",
            "\tTest representation: 35.56%            \n",
            "\tAccuracy: 48.44%\n"
          ],
          "name": "stdout"
        },
        {
          "output_type": "display_data",
          "data": {
            "application/javascript": [
              "google.colab.output.setIframeHeight(0, true, {maxHeight: 300})"
            ],
            "text/plain": [
              "<IPython.core.display.Javascript object>"
            ]
          },
          "metadata": {
            "tags": []
          }
        },
        {
          "output_type": "stream",
          "text": [
            "\n",
            "Class 0:             \n",
            "\tCorrect nodes: 69            \n",
            "\tTest nodes: 130            \n",
            "\tTest representation: 37.04%            \n",
            "\tAccuracy: 53.08%\n",
            "\n",
            "Class 1:             \n",
            "\tCorrect nodes: 75            \n",
            "\tTest nodes: 91            \n",
            "\tTest representation: 41.94%            \n",
            "\tAccuracy: 82.42%\n",
            "\n",
            "Class 2:             \n",
            "\tCorrect nodes: 123            \n",
            "\tTest nodes: 144            \n",
            "\tTest representation: 34.45%            \n",
            "\tAccuracy: 85.42%\n",
            "\n",
            "Class 3:             \n",
            "\tCorrect nodes: 172            \n",
            "\tTest nodes: 319            \n",
            "\tTest representation: 39.00%            \n",
            "\tAccuracy: 53.92%\n",
            "\n",
            "Class 4:             \n",
            "\tCorrect nodes: 101            \n",
            "\tTest nodes: 149            \n",
            "\tTest representation: 34.98%            \n",
            "\tAccuracy: 67.79%\n",
            "\n",
            "Class 5:             \n",
            "\tCorrect nodes: 78            \n",
            "\tTest nodes: 103            \n",
            "\tTest representation: 34.56%            \n",
            "\tAccuracy: 75.73%\n",
            "\n",
            "Class 6:             \n",
            "\tCorrect nodes: 51            \n",
            "\tTest nodes: 64            \n",
            "\tTest representation: 35.56%            \n",
            "\tAccuracy: 79.69%\n"
          ],
          "name": "stdout"
        },
        {
          "output_type": "display_data",
          "data": {
            "application/javascript": [
              "google.colab.output.setIframeHeight(0, true, {maxHeight: 300})"
            ],
            "text/plain": [
              "<IPython.core.display.Javascript object>"
            ]
          },
          "metadata": {
            "tags": []
          }
        },
        {
          "output_type": "stream",
          "text": [
            "\n",
            "Class 0:             \n",
            "\tCorrect nodes: 105            \n",
            "\tTest nodes: 130            \n",
            "\tTest representation: 37.04%            \n",
            "\tAccuracy: 80.77%\n",
            "\n",
            "Class 1:             \n",
            "\tCorrect nodes: 77            \n",
            "\tTest nodes: 91            \n",
            "\tTest representation: 41.94%            \n",
            "\tAccuracy: 84.62%\n",
            "\n",
            "Class 2:             \n",
            "\tCorrect nodes: 124            \n",
            "\tTest nodes: 144            \n",
            "\tTest representation: 34.45%            \n",
            "\tAccuracy: 86.11%\n",
            "\n",
            "Class 3:             \n",
            "\tCorrect nodes: 205            \n",
            "\tTest nodes: 319            \n",
            "\tTest representation: 39.00%            \n",
            "\tAccuracy: 64.26%\n",
            "\n",
            "Class 4:             \n",
            "\tCorrect nodes: 87            \n",
            "\tTest nodes: 149            \n",
            "\tTest representation: 34.98%            \n",
            "\tAccuracy: 58.39%\n",
            "\n",
            "Class 5:             \n",
            "\tCorrect nodes: 65            \n",
            "\tTest nodes: 103            \n",
            "\tTest representation: 34.56%            \n",
            "\tAccuracy: 63.11%\n",
            "\n",
            "Class 6:             \n",
            "\tCorrect nodes: 38            \n",
            "\tTest nodes: 64            \n",
            "\tTest representation: 35.56%            \n",
            "\tAccuracy: 59.38%\n"
          ],
          "name": "stdout"
        },
        {
          "output_type": "display_data",
          "data": {
            "application/javascript": [
              "google.colab.output.setIframeHeight(0, true, {maxHeight: 300})"
            ],
            "text/plain": [
              "<IPython.core.display.Javascript object>"
            ]
          },
          "metadata": {
            "tags": []
          }
        },
        {
          "output_type": "stream",
          "text": [
            "\n",
            "Class 0:             \n",
            "\tCorrect nodes: 38            \n",
            "\tTest nodes: 130            \n",
            "\tTest representation: 37.04%            \n",
            "\tAccuracy: 29.23%\n",
            "\n",
            "Class 1:             \n",
            "\tCorrect nodes: 69            \n",
            "\tTest nodes: 91            \n",
            "\tTest representation: 41.94%            \n",
            "\tAccuracy: 75.82%\n",
            "\n",
            "Class 2:             \n",
            "\tCorrect nodes: 128            \n",
            "\tTest nodes: 144            \n",
            "\tTest representation: 34.45%            \n",
            "\tAccuracy: 88.89%\n",
            "\n",
            "Class 3:             \n",
            "\tCorrect nodes: 130            \n",
            "\tTest nodes: 319            \n",
            "\tTest representation: 39.00%            \n",
            "\tAccuracy: 40.75%\n",
            "\n",
            "Class 4:             \n",
            "\tCorrect nodes: 97            \n",
            "\tTest nodes: 149            \n",
            "\tTest representation: 34.98%            \n",
            "\tAccuracy: 65.10%\n",
            "\n",
            "Class 5:             \n",
            "\tCorrect nodes: 75            \n",
            "\tTest nodes: 103            \n",
            "\tTest representation: 34.56%            \n",
            "\tAccuracy: 72.82%\n",
            "\n",
            "Class 6:             \n",
            "\tCorrect nodes: 37            \n",
            "\tTest nodes: 64            \n",
            "\tTest representation: 35.56%            \n",
            "\tAccuracy: 57.81%\n"
          ],
          "name": "stdout"
        },
        {
          "output_type": "display_data",
          "data": {
            "application/javascript": [
              "google.colab.output.setIframeHeight(0, true, {maxHeight: 300})"
            ],
            "text/plain": [
              "<IPython.core.display.Javascript object>"
            ]
          },
          "metadata": {
            "tags": []
          }
        },
        {
          "output_type": "stream",
          "text": [
            "\n",
            "Class 0:             \n",
            "\tCorrect nodes: 12            \n",
            "\tTest nodes: 130            \n",
            "\tTest representation: 37.04%            \n",
            "\tAccuracy: 9.23%\n",
            "\n",
            "Class 1:             \n",
            "\tCorrect nodes: 68            \n",
            "\tTest nodes: 91            \n",
            "\tTest representation: 41.94%            \n",
            "\tAccuracy: 74.73%\n",
            "\n",
            "Class 2:             \n",
            "\tCorrect nodes: 83            \n",
            "\tTest nodes: 144            \n",
            "\tTest representation: 34.45%            \n",
            "\tAccuracy: 57.64%\n",
            "\n",
            "Class 3:             \n",
            "\tCorrect nodes: 107            \n",
            "\tTest nodes: 319            \n",
            "\tTest representation: 39.00%            \n",
            "\tAccuracy: 33.54%\n",
            "\n",
            "Class 4:             \n",
            "\tCorrect nodes: 89            \n",
            "\tTest nodes: 149            \n",
            "\tTest representation: 34.98%            \n",
            "\tAccuracy: 59.73%\n",
            "\n",
            "Class 5:             \n",
            "\tCorrect nodes: 66            \n",
            "\tTest nodes: 103            \n",
            "\tTest representation: 34.56%            \n",
            "\tAccuracy: 64.08%\n",
            "\n",
            "Class 6:             \n",
            "\tCorrect nodes: 22            \n",
            "\tTest nodes: 64            \n",
            "\tTest representation: 35.56%            \n",
            "\tAccuracy: 34.38%\n"
          ],
          "name": "stdout"
        },
        {
          "output_type": "display_data",
          "data": {
            "application/javascript": [
              "google.colab.output.setIframeHeight(0, true, {maxHeight: 300})"
            ],
            "text/plain": [
              "<IPython.core.display.Javascript object>"
            ]
          },
          "metadata": {
            "tags": []
          }
        },
        {
          "output_type": "stream",
          "text": [
            "\n",
            "Class 0:             \n",
            "\tCorrect nodes: 9            \n",
            "\tTest nodes: 130            \n",
            "\tTest representation: 37.04%            \n",
            "\tAccuracy: 6.92%\n",
            "\n",
            "Class 1:             \n",
            "\tCorrect nodes: 86            \n",
            "\tTest nodes: 91            \n",
            "\tTest representation: 41.94%            \n",
            "\tAccuracy: 94.51%\n",
            "\n",
            "Class 2:             \n",
            "\tCorrect nodes: 6            \n",
            "\tTest nodes: 144            \n",
            "\tTest representation: 34.45%            \n",
            "\tAccuracy: 4.17%\n",
            "\n",
            "Class 3:             \n",
            "\tCorrect nodes: 96            \n",
            "\tTest nodes: 319            \n",
            "\tTest representation: 39.00%            \n",
            "\tAccuracy: 30.09%\n",
            "\n",
            "Class 4:             \n",
            "\tCorrect nodes: 65            \n",
            "\tTest nodes: 149            \n",
            "\tTest representation: 34.98%            \n",
            "\tAccuracy: 43.62%\n",
            "\n",
            "Class 5:             \n",
            "\tCorrect nodes: 45            \n",
            "\tTest nodes: 103            \n",
            "\tTest representation: 34.56%            \n",
            "\tAccuracy: 43.69%\n",
            "\n",
            "Class 6:             \n",
            "\tCorrect nodes: 9            \n",
            "\tTest nodes: 64            \n",
            "\tTest representation: 35.56%            \n",
            "\tAccuracy: 14.06%\n"
          ],
          "name": "stdout"
        }
      ]
    },
    {
      "cell_type": "markdown",
      "metadata": {
        "id": "50NZFKgS6S8P"
      },
      "source": [
        "##### Test outcome analysis"
      ]
    },
    {
      "cell_type": "markdown",
      "metadata": {
        "id": "ubgwn0m4Cjz-"
      },
      "source": [
        "**Accuray over different tests**\n",
        "\n",
        "Visiblyon the two graphs below, the default training set can be reduced to 50% and even 25% of its original size (Test 1 size: 140, Test 3 size: 70, Test 4 size: 35) while still performing with a near intact accuracy (Test 1: 81.4%, Test 3: 77.5%, Test 4: 75.6%). \n",
        "<br>\n",
        "<br>\n",
        "<br>\n",
        "\n",
        "\n",
        "..._That's only about 5% decrease in accuracy!_"
      ]
    },
    {
      "cell_type": "code",
      "metadata": {
        "id": "b-N3NVzaDa59"
      },
      "source": [
        "cora_outcome['accuracy']['Accuracy change (%)'] = cora_outcome['accuracy']['Accuracy (%)'].pct_change() * 100"
      ],
      "execution_count": 12,
      "outputs": []
    },
    {
      "cell_type": "code",
      "metadata": {
        "colab": {
          "base_uri": "https://localhost:8080/",
          "height": 297
        },
        "id": "Xmesl323EieY",
        "outputId": "35bfb56e-60d9-4743-bf98-5cdc583f7f57"
      },
      "source": [
        "cora_outcome['accuracy']"
      ],
      "execution_count": 13,
      "outputs": [
        {
          "output_type": "execute_result",
          "data": {
            "text/html": [
              "<div>\n",
              "<style scoped>\n",
              "    .dataframe tbody tr th:only-of-type {\n",
              "        vertical-align: middle;\n",
              "    }\n",
              "\n",
              "    .dataframe tbody tr th {\n",
              "        vertical-align: top;\n",
              "    }\n",
              "\n",
              "    .dataframe thead th {\n",
              "        text-align: right;\n",
              "    }\n",
              "</style>\n",
              "<table border=\"1\" class=\"dataframe\">\n",
              "  <thead>\n",
              "    <tr style=\"text-align: right;\">\n",
              "      <th></th>\n",
              "      <th>Number of training nodes</th>\n",
              "      <th>Accuracy (%)</th>\n",
              "      <th>Accuracy change (%)</th>\n",
              "    </tr>\n",
              "  </thead>\n",
              "  <tbody>\n",
              "    <tr>\n",
              "      <th>Test 1</th>\n",
              "      <td>140</td>\n",
              "      <td>0.814</td>\n",
              "      <td>NaN</td>\n",
              "    </tr>\n",
              "    <tr>\n",
              "      <th>Test 2</th>\n",
              "      <td>105</td>\n",
              "      <td>0.766</td>\n",
              "      <td>-5.896806</td>\n",
              "    </tr>\n",
              "    <tr>\n",
              "      <th>Test 3</th>\n",
              "      <td>70</td>\n",
              "      <td>0.772</td>\n",
              "      <td>0.783290</td>\n",
              "    </tr>\n",
              "    <tr>\n",
              "      <th>Test 4</th>\n",
              "      <td>35</td>\n",
              "      <td>0.669</td>\n",
              "      <td>-13.341969</td>\n",
              "    </tr>\n",
              "    <tr>\n",
              "      <th>Test 5</th>\n",
              "      <td>28</td>\n",
              "      <td>0.701</td>\n",
              "      <td>4.783259</td>\n",
              "    </tr>\n",
              "    <tr>\n",
              "      <th>Test 6</th>\n",
              "      <td>21</td>\n",
              "      <td>0.574</td>\n",
              "      <td>-18.116976</td>\n",
              "    </tr>\n",
              "    <tr>\n",
              "      <th>Test 7</th>\n",
              "      <td>14</td>\n",
              "      <td>0.447</td>\n",
              "      <td>-22.125436</td>\n",
              "    </tr>\n",
              "    <tr>\n",
              "      <th>Test 8</th>\n",
              "      <td>7</td>\n",
              "      <td>0.316</td>\n",
              "      <td>-29.306488</td>\n",
              "    </tr>\n",
              "  </tbody>\n",
              "</table>\n",
              "</div>"
            ],
            "text/plain": [
              "        Number of training nodes  Accuracy (%)  Accuracy change (%)\n",
              "Test 1                       140         0.814                  NaN\n",
              "Test 2                       105         0.766            -5.896806\n",
              "Test 3                        70         0.772             0.783290\n",
              "Test 4                        35         0.669           -13.341969\n",
              "Test 5                        28         0.701             4.783259\n",
              "Test 6                        21         0.574           -18.116976\n",
              "Test 7                        14         0.447           -22.125436\n",
              "Test 8                         7         0.316           -29.306488"
            ]
          },
          "metadata": {
            "tags": []
          },
          "execution_count": 13
        }
      ]
    },
    {
      "cell_type": "code",
      "metadata": {
        "colab": {
          "base_uri": "https://localhost:8080/",
          "height": 301
        },
        "id": "be9J0FDdaV7D",
        "outputId": "6eb2eaed-e441-41e3-acb6-f9e0e5936738"
      },
      "source": [
        "ymax = cora_outcome['accuracy']['Accuracy (%)'].max()+0.1\n",
        "ymin = cora_outcome['accuracy']['Accuracy (%)'].min()-0.1\n",
        "cora_outcome['accuracy'].plot(y='Accuracy (%)',kind='bar',ylim=(ymin, ymax))"
      ],
      "execution_count": 14,
      "outputs": [
        {
          "output_type": "execute_result",
          "data": {
            "text/plain": [
              "<matplotlib.axes._subplots.AxesSubplot at 0x7fe68ce60e10>"
            ]
          },
          "metadata": {
            "tags": []
          },
          "execution_count": 14
        },
        {
          "output_type": "display_data",
          "data": {
            "image/png": "[encoded data removed]",
            "text/plain": [
              "<Figure size 432x288 with 1 Axes>"
            ]
          },
          "metadata": {
            "tags": [],
            "needs_background": "light"
          }
        }
      ]
    },
    {
      "cell_type": "code",
      "metadata": {
        "colab": {
          "base_uri": "https://localhost:8080/",
          "height": 301
        },
        "id": "CK7titb12EOV",
        "outputId": "b9e08da8-5bcd-42b1-e263-f7250acfa1fc"
      },
      "source": [
        "cora_outcome['accuracy'].plot(y='Number of training nodes',kind='bar')"
      ],
      "execution_count": 15,
      "outputs": [
        {
          "output_type": "execute_result",
          "data": {
            "text/plain": [
              "<matplotlib.axes._subplots.AxesSubplot at 0x7fe705787e10>"
            ]
          },
          "metadata": {
            "tags": []
          },
          "execution_count": 15
        },
        {
          "output_type": "display_data",
          "data": {
            "image/png": "[encoded data removed]",
            "text/plain": [
              "<Figure size 432x288 with 1 Axes>"
            ]
          },
          "metadata": {
            "tags": [],
            "needs_background": "light"
          }
        }
      ]
    },
    {
      "cell_type": "code",
      "metadata": {
        "colab": {
          "base_uri": "https://localhost:8080/"
        },
        "id": "Pd78tgKWGVgg",
        "outputId": "8e87a200-5311-4a8a-8be8-6fc958a50527"
      },
      "source": [
        "cora_outcome"
      ],
      "execution_count": 16,
      "outputs": [
        {
          "output_type": "execute_result",
          "data": {
            "text/plain": [
              "{'accuracy':         Number of training nodes  Accuracy (%)  Accuracy change (%)\n",
              " Test 1                       140         0.814                  NaN\n",
              " Test 2                       105         0.766            -5.896806\n",
              " Test 3                        70         0.772             0.783290\n",
              " Test 4                        35         0.669           -13.341969\n",
              " Test 5                        28         0.701             4.783259\n",
              " Test 6                        21         0.574           -18.116976\n",
              " Test 7                        14         0.447           -22.125436\n",
              " Test 8                         7         0.316           -29.306488,\n",
              " 'class_accuracy':                 0          1          2  ...          4          5        6\n",
              " Test 1  76.923080  85.714287  88.888885  ...  87.919464  78.640778  78.1250\n",
              " Test 2  80.000000  83.516487  85.416664  ...  86.577179  74.757278  65.6250\n",
              " Test 3  88.461540  81.318680  90.972221  ...  72.483223  68.932037  48.4375\n",
              " Test 4  53.076923  82.417580  85.416664  ...  67.785233  75.728157  79.6875\n",
              " Test 5  80.769234  84.615387  86.111115  ...  58.389263  63.106796  59.3750\n",
              " Test 6  29.230770  75.824173  88.888885  ...  65.100670  72.815536  57.8125\n",
              " Test 7   9.230769  74.725273  57.638889  ...  59.731544  64.077667  34.3750\n",
              " Test 8   6.923077  94.505493   4.166667  ...  43.624161  43.689320  14.0625\n",
              " \n",
              " [8 rows x 7 columns],\n",
              " 'correct_predtion':           0   1    2    3    4   5   6\n",
              " Test 1  100  78  128  246  131  81  50\n",
              " Test 2  104  76  123  215  129  77  42\n",
              " Test 3  115  74  131  242  108  71  31\n",
              " Test 4   69  75  123  172  101  78  51\n",
              " Test 5  105  77  124  205   87  65  38\n",
              " Test 6   38  69  128  130   97  75  37\n",
              " Test 7   12  68   83  107   89  66  22\n",
              " Test 8    9  86    6   96   65  45   9,\n",
              " 'models': {'Test 1': GCN(\n",
              "    (conv1): GCNConv(1433, 16)\n",
              "    (conv2): GCNConv(16, 7)\n",
              "  ), 'Test 2': GCN(\n",
              "    (conv1): GCNConv(1433, 16)\n",
              "    (conv2): GCNConv(16, 7)\n",
              "  ), 'Test 3': GCN(\n",
              "    (conv1): GCNConv(1433, 16)\n",
              "    (conv2): GCNConv(16, 7)\n",
              "  ), 'Test 4': GCN(\n",
              "    (conv1): GCNConv(1433, 16)\n",
              "    (conv2): GCNConv(16, 7)\n",
              "  ), 'Test 5': GCN(\n",
              "    (conv1): GCNConv(1433, 16)\n",
              "    (conv2): GCNConv(16, 7)\n",
              "  ), 'Test 6': GCN(\n",
              "    (conv1): GCNConv(1433, 16)\n",
              "    (conv2): GCNConv(16, 7)\n",
              "  ), 'Test 7': GCN(\n",
              "    (conv1): GCNConv(1433, 16)\n",
              "    (conv2): GCNConv(16, 7)\n",
              "  ), 'Test 8': GCN(\n",
              "    (conv1): GCNConv(1433, 16)\n",
              "    (conv2): GCNConv(16, 7)\n",
              "  )}}"
            ]
          },
          "metadata": {
            "tags": []
          },
          "execution_count": 16
        }
      ]
    },
    {
      "cell_type": "markdown",
      "metadata": {
        "id": "m7_Vm7mrOGzA"
      },
      "source": [
        "### Attempt to better sample a default train set\n",
        "\n",
        "* Creating a custom training mask (using stratified sampling) containing 100% nodes of the default training mask"
      ]
    },
    {
      "cell_type": "markdown",
      "metadata": {
        "id": "U7PMUkcDUVOF"
      },
      "source": [
        "##### Prepare dataset"
      ]
    },
    {
      "cell_type": "code",
      "metadata": {
        "colab": {
          "base_uri": "https://localhost:8080/"
        },
        "id": "-Z2jZfrjUGmp",
        "outputId": "17b8d2e9-b816-4db7-8ab4-5fc1155c9a52"
      },
      "source": [
        "data_test_5 = cora[0]\n",
        "\n",
        "all_classes = data_test_5.y.numpy()\n",
        "new_train_indices, _ = train_test_split(np.arange(len(all_classes)),\n",
        "                                        train_size=140,\n",
        "                                        stratify=all_classes)\n",
        "\n",
        "new_train_mask = torch.zeros(data_test_5.num_nodes, dtype=torch.bool)\n",
        "new_train_mask[new_train_indices] = True\n",
        "data_test_5.train_mask = new_train_mask\n",
        "\n",
        "print(f'Number of new train nodes: {int(new_train_mask.sum())}')"
      ],
      "execution_count": 17,
      "outputs": [
        {
          "output_type": "stream",
          "text": [
            "Number of new train nodes: 140\n"
          ],
          "name": "stdout"
        }
      ]
    },
    {
      "cell_type": "markdown",
      "metadata": {
        "id": "a-NWanlYXji-"
      },
      "source": [
        "##### Create and train the model"
      ]
    },
    {
      "cell_type": "code",
      "metadata": {
        "colab": {
          "base_uri": "https://localhost:8080/"
        },
        "id": "8CNySjKbXji-",
        "outputId": "d282d2e9-8f5a-4e0d-c589-db7d1728bfad"
      },
      "source": [
        "model_test_5 = GCN(hidden_channels=16, dataset=cora)\n",
        "optimizer_test_5 = torch.optim.Adam(model_test_5.parameters(), lr=0.01, weight_decay=5e-4)\n",
        "criterion_test_5 = torch.nn.CrossEntropyLoss()\n",
        "\n",
        "train_epochs(model_test_5, data_test_5, optimizer_test_5, criterion_test_5, 200, [50, 100, 150, 200])"
      ],
      "execution_count": 18,
      "outputs": [
        {
          "output_type": "stream",
          "text": [
            "Epoch: 050\n",
            "\tLoss: 1.2791\n",
            "\tAccuracy: 54.90\n",
            "\n",
            "Epoch: 100\n",
            "\tLoss: 0.7370\n",
            "\tAccuracy: 69.20\n",
            "\n",
            "Epoch: 150\n",
            "\tLoss: 0.5767\n",
            "\tAccuracy: 76.50\n",
            "\n",
            "Epoch: 200\n",
            "\tLoss: 0.4091\n",
            "\tAccuracy: 78.30\n",
            "\n"
          ],
          "name": "stdout"
        }
      ]
    },
    {
      "cell_type": "markdown",
      "metadata": {
        "id": "sJzi3PoWXji-"
      },
      "source": [
        "##### Conclusion\n",
        "\n",
        "* The accuracy of a model trained on this training dataset is actually lower than the default training dataset, therefore I'm assuming it's not worth exploring"
      ]
    },
    {
      "cell_type": "code",
      "metadata": {
        "colab": {
          "base_uri": "https://localhost:8080/",
          "height": 300
        },
        "id": "DjGf2pFZXji-",
        "outputId": "41df1752-f32b-452c-9c11-a328aeb9cb79"
      },
      "source": [
        "test_5_accuracy, test_5_correctly_predicted = test_accuracy_distribution(model_test_5, data_test_5)"
      ],
      "execution_count": 19,
      "outputs": [
        {
          "output_type": "display_data",
          "data": {
            "application/javascript": [
              "google.colab.output.setIframeHeight(0, true, {maxHeight: 300})"
            ],
            "text/plain": [
              "<IPython.core.display.Javascript object>"
            ]
          },
          "metadata": {
            "tags": []
          }
        },
        {
          "output_type": "stream",
          "text": [
            "\n",
            "Class 0:             \n",
            "\tCorrect nodes: 101            \n",
            "\tTest nodes: 130            \n",
            "\tTest representation: 37.04%            \n",
            "\tAccuracy: 77.69%\n",
            "\n",
            "Class 1:             \n",
            "\tCorrect nodes: 63            \n",
            "\tTest nodes: 91            \n",
            "\tTest representation: 41.94%            \n",
            "\tAccuracy: 69.23%\n",
            "\n",
            "Class 2:             \n",
            "\tCorrect nodes: 131            \n",
            "\tTest nodes: 144            \n",
            "\tTest representation: 34.45%            \n",
            "\tAccuracy: 90.97%\n",
            "\n",
            "Class 3:             \n",
            "\tCorrect nodes: 264            \n",
            "\tTest nodes: 319            \n",
            "\tTest representation: 39.00%            \n",
            "\tAccuracy: 82.76%\n",
            "\n",
            "Class 4:             \n",
            "\tCorrect nodes: 126            \n",
            "\tTest nodes: 149            \n",
            "\tTest representation: 34.98%            \n",
            "\tAccuracy: 84.56%\n",
            "\n",
            "Class 5:             \n",
            "\tCorrect nodes: 78            \n",
            "\tTest nodes: 103            \n",
            "\tTest representation: 34.56%            \n",
            "\tAccuracy: 75.73%\n",
            "\n",
            "Class 6:             \n",
            "\tCorrect nodes: 20            \n",
            "\tTest nodes: 64            \n",
            "\tTest representation: 35.56%            \n",
            "\tAccuracy: 31.25%\n"
          ],
          "name": "stdout"
        }
      ]
    },
    {
      "cell_type": "markdown",
      "metadata": {
        "id": "fcwGG2PAKFJZ"
      },
      "source": [
        "# Pubmed Dataset\n",
        "\n",
        "PubMed dataset, while similar to the Cora dataset used before is quite larger.\n",
        "The dataset contains more than 19 000 node in it's graph (Comparing with about 2500 in Cora). Another difference betwwen the dataset is the amount of node classes; PubMed has 3 while Cora has 7.\n",
        "\n",
        "\n",
        "<br>\n",
        "\n",
        "\n",
        "It's similarities and differences with Cora makes the PubMed dataset a good candidate to perform further analysis on."
      ]
    },
    {
      "cell_type": "markdown",
      "metadata": {
        "id": "DxURLYJoQjtE"
      },
      "source": [
        "### Dataset setup\n",
        "\n",
        "* Get thedataset\n",
        "* Print out useful insights into the dataset"
      ]
    },
    {
      "cell_type": "code",
      "metadata": {
        "colab": {
          "base_uri": "https://localhost:8080/"
        },
        "id": "p68TxLJDQjtE",
        "outputId": "e6ae4033-8b81-4af6-e667-a9e75c641c38"
      },
      "source": [
        "pubmed = Planetoid(root='data/Planetoid', name='PubMed', transform=NormalizeFeatures())\n",
        "print_dataset_details(pubmed)"
      ],
      "execution_count": 20,
      "outputs": [
        {
          "output_type": "stream",
          "text": [
            "Downloading https://github.com/kimiyoung/planetoid/raw/master/data/ind.pubmed.x\n",
            "Downloading https://github.com/kimiyoung/planetoid/raw/master/data/ind.pubmed.tx\n",
            "Downloading https://github.com/kimiyoung/planetoid/raw/master/data/ind.pubmed.allx\n",
            "Downloading https://github.com/kimiyoung/planetoid/raw/master/data/ind.pubmed.y\n",
            "Downloading https://github.com/kimiyoung/planetoid/raw/master/data/ind.pubmed.ty\n",
            "Downloading https://github.com/kimiyoung/planetoid/raw/master/data/ind.pubmed.ally\n",
            "Downloading https://github.com/kimiyoung/planetoid/raw/master/data/ind.pubmed.graph\n",
            "Downloading https://github.com/kimiyoung/planetoid/raw/master/data/ind.pubmed.test.index\n",
            "Processing...\n",
            "Done!\n",
            "\n",
            "Dataset: PubMed():\n",
            "======================\n",
            "Number of graphs: 1\n",
            "Number of features: 500\n",
            "Number of classes: 3\n",
            "\n",
            "Data(edge_index=[2, 88648], test_mask=[19717], train_mask=[19717], val_mask=[19717], x=[19717, 500], y=[19717])\n",
            "===========================================================================================================\n",
            "Number of nodes: 19717\n",
            "Number of edges: 88648\n",
            "Average node degree: 4.50\n",
            "Number of training nodes: 60\n",
            "Training node label rate: 0.00\n",
            "Contains isolated nodes: False\n",
            "Contains self-loops: False\n",
            "Is undirected: True\n"
          ],
          "name": "stdout"
        }
      ]
    },
    {
      "cell_type": "markdown",
      "metadata": {
        "id": "t0qrfZwj44DX"
      },
      "source": [
        "### Base prediction rate\n",
        "\n",
        "This is an estimation of what is the lowest plausible accuracy for a specified datased "
      ]
    },
    {
      "cell_type": "code",
      "metadata": {
        "colab": {
          "base_uri": "https://localhost:8080/"
        },
        "id": "_Sxhb27k44DX",
        "outputId": "6d8b3b2e-1b1e-40fc-ffc4-093be8ca669b"
      },
      "source": [
        "get_base_prediction_rate(pubmed[0])"
      ],
      "execution_count": 21,
      "outputs": [
        {
          "output_type": "execute_result",
          "data": {
            "text/plain": [
              "0.399"
            ]
          },
          "metadata": {
            "tags": []
          },
          "execution_count": 21
        }
      ]
    },
    {
      "cell_type": "markdown",
      "metadata": {
        "id": "NdzOiJcZ_0rX"
      },
      "source": [
        "### Training set reduction\n",
        "\n",
        "* Training the GCN model on the Cora dataset training masks with the following sizes:\n",
        "    * __Test 1__: The default training mask\n",
        "    * __Test 2__: 75% of the default training mask\n",
        "    * __Test 3__: 50% of the default training mask\n",
        "    * __Test 4__: 25% of the default training mask\n",
        "    * __Test 5__: 9 nodes\n",
        "    * __Test 6__: 6 nodes\n",
        "    * __Test 7__: 3 nodes (Smallest mask possible)"
      ]
    },
    {
      "cell_type": "code",
      "metadata": {
        "colab": {
          "base_uri": "https://localhost:8080/",
          "height": 300
        },
        "id": "GHrnrj4kPaym",
        "outputId": "d3e9248e-5f9d-48ac-8c62-806158d1ddc0"
      },
      "source": [
        "train_sizes = [1.0, 0.75, 0.5, 0.25] + [9, 6, 3]\n",
        "pubmed_outcome = perform_test_series(pubmed, train_sizes)"
      ],
      "execution_count": null,
      "outputs": [
        {
          "output_type": "display_data",
          "data": {
            "application/javascript": [
              "google.colab.output.setIframeHeight(0, true, {maxHeight: 300})"
            ],
            "text/plain": [
              "<IPython.core.display.Javascript object>"
            ]
          },
          "metadata": {
            "tags": []
          }
        },
        {
          "output_type": "stream",
          "text": [
            "\n",
            "Class 0:             \n",
            "\tCorrect nodes: 141            \n",
            "\tTest nodes: 180            \n",
            "\tTest representation: 4.39%            \n",
            "\tAccuracy: 78.33%\n",
            "\n",
            "Class 1:             \n",
            "\tCorrect nodes: 340            \n",
            "\tTest nodes: 413            \n",
            "\tTest representation: 5.34%            \n",
            "\tAccuracy: 82.32%\n",
            "\n",
            "Class 2:             \n",
            "\tCorrect nodes: 305            \n",
            "\tTest nodes: 407            \n",
            "\tTest representation: 5.17%            \n",
            "\tAccuracy: 74.94%\n"
          ],
          "name": "stdout"
        },
        {
          "output_type": "display_data",
          "data": {
            "application/javascript": [
              "google.colab.output.setIframeHeight(0, true, {maxHeight: 300})"
            ],
            "text/plain": [
              "<IPython.core.display.Javascript object>"
            ]
          },
          "metadata": {
            "tags": []
          }
        },
        {
          "output_type": "stream",
          "text": [
            "\n",
            "Class 0:             \n",
            "\tCorrect nodes: 139            \n",
            "\tTest nodes: 180            \n",
            "\tTest representation: 4.39%            \n",
            "\tAccuracy: 77.22%\n",
            "\n",
            "Class 1:             \n",
            "\tCorrect nodes: 324            \n",
            "\tTest nodes: 413            \n",
            "\tTest representation: 5.34%            \n",
            "\tAccuracy: 78.45%\n",
            "\n",
            "Class 2:             \n",
            "\tCorrect nodes: 307            \n",
            "\tTest nodes: 407            \n",
            "\tTest representation: 5.17%            \n",
            "\tAccuracy: 75.43%\n"
          ],
          "name": "stdout"
        }
      ]
    },
    {
      "cell_type": "code",
      "metadata": {
        "id": "vFN8RrUh-_O8"
      },
      "source": [
        "ymax = pubmed_outcome['accuracy']['Accuracy (%)'].max()+0.1\n",
        "ymin = pubmed_outcome['accuracy']['Accuracy (%)'].min()-0.1\n",
        "pubmed_outcome['accuracy'].plot(y='Accuracy (%)',kind='bar',ylim=(ymin, ymax))"
      ],
      "execution_count": null,
      "outputs": []
    },
    {
      "cell_type": "code",
      "metadata": {
        "id": "2SE1Y94a-_O9"
      },
      "source": [
        "pubmed_outcome['accuracy'].plot(y='Number of training nodes',kind='bar')"
      ],
      "execution_count": null,
      "outputs": []
    },
    {
      "cell_type": "code",
      "metadata": {
        "id": "ZJpke0yTSrwf"
      },
      "source": [
        "pubmed_outcome"
      ],
      "execution_count": null,
      "outputs": []
    },
    {
      "cell_type": "markdown",
      "metadata": {
        "id": "nSiMt0jvqMiq"
      },
      "source": [
        "# CiteSeer Dataset"
      ]
    },
    {
      "cell_type": "markdown",
      "metadata": {
        "id": "vbNM4EkerGjL"
      },
      "source": [
        "### Dataset setup\n",
        "\n",
        "* Get the dataset\n",
        "* Print out useful insights into the dataset"
      ]
    },
    {
      "cell_type": "code",
      "metadata": {
        "id": "Oze741cqq2Rf"
      },
      "source": [
        "citeseer = Planetoid(root='data/Planetoid', name='CiteSeer', transform=NormalizeFeatures())\n",
        "print_dataset_details(citeseer)"
      ],
      "execution_count": null,
      "outputs": []
    },
    {
      "cell_type": "markdown",
      "metadata": {
        "id": "Ooc87U5c5BGe"
      },
      "source": [
        "### Base prediction rate\n",
        "\n",
        "This is an estimation of what is the lowest plausible accuracy for a specified datased "
      ]
    },
    {
      "cell_type": "code",
      "metadata": {
        "id": "sf27R3Uy5BGe"
      },
      "source": [
        "citeseer_base = get_base_prediction_rate(citeseer[0])\n",
        "citeseer_base"
      ],
      "execution_count": null,
      "outputs": []
    },
    {
      "cell_type": "markdown",
      "metadata": {
        "id": "oe4QT68-q2Rg"
      },
      "source": [
        "### Training set reduction\n",
        "\n",
        "* Training the GCN model on the Cora dataset training masks with the following sizes:\n",
        "    * __Test 1__: The default training mask\n",
        "    * __Test 2__: 75% of the default training mask\n",
        "    * __Test 3__: 50% of the default training mask\n",
        "    * __Test 4__: 25% of the default training mask\n",
        "    * __Test 5__: 24 nodes\n",
        "    * __Test 6__: 18 nodes\n",
        "    * __Test 6__: 12 nodes\n",
        "    * __Test 7__: 6 nodes (Smallest mask possible)"
      ]
    },
    {
      "cell_type": "code",
      "metadata": {
        "id": "3UPZ5Iv_q2Rh"
      },
      "source": [
        "train_sizes = [1.0, 0.75, 0.5, 0.25] + [24, 18, 12, 6]\n",
        "citeseer_outcome = perform_test_series(citeseer, train_sizes)"
      ],
      "execution_count": null,
      "outputs": []
    },
    {
      "cell_type": "code",
      "metadata": {
        "id": "CeTtZ6IXq2Rh"
      },
      "source": [
        "ymax = citeseer_outcome['accuracy']['Accuracy (%)'].max()+0.1\n",
        "ymin = citeseer_outcome['accuracy']['Accuracy (%)'].min()-0.1\n",
        "citeseer_outcome['accuracy'].plot(y='Accuracy (%)',kind='bar',ylim=(ymin, ymax))"
      ],
      "execution_count": null,
      "outputs": []
    },
    {
      "cell_type": "code",
      "metadata": {
        "id": "arpeDsn0q2Ri"
      },
      "source": [
        "citeseer_outcome['accuracy'].plot(y='Number of training nodes',kind='bar')"
      ],
      "execution_count": null,
      "outputs": []
    },
    {
      "cell_type": "code",
      "metadata": {
        "id": "thH4g6L0q2Ri"
      },
      "source": [
        "citeseer_outcome"
      ],
      "execution_count": null,
      "outputs": []
    },
    {
      "cell_type": "markdown",
      "metadata": {
        "id": "I_2oAuhc6pLF"
      },
      "source": [
        "# Tables and Graphs"
      ]
    },
    {
      "cell_type": "code",
      "metadata": {
        "id": "f9wInI1c-E5y"
      },
      "source": [
        "cora_outcome['accuracy']"
      ],
      "execution_count": null,
      "outputs": []
    },
    {
      "cell_type": "code",
      "metadata": {
        "id": "ezMjAS4-7JqF"
      },
      "source": [
        "pubmed_outcome['accuracy']"
      ],
      "execution_count": null,
      "outputs": []
    },
    {
      "cell_type": "code",
      "metadata": {
        "id": "7nHjTO_D7J1B"
      },
      "source": [
        "citeseer_outcome['accuracy']['Accuracy (%)']"
      ],
      "execution_count": null,
      "outputs": []
    },
    {
      "cell_type": "code",
      "metadata": {
        "id": "HsnLfRrj-fuj"
      },
      "source": [
        "overall_accuracy = pd.DataFrame()"
      ],
      "execution_count": null,
      "outputs": []
    },
    {
      "cell_type": "code",
      "metadata": {
        "id": "CkczaQF47IKI"
      },
      "source": [
        "overall_accuracy['Cora'] = cora_outcome['accuracy']['Accuracy (%)']\n",
        "overall_accuracy['PubMed'] = pubmed_outcome['accuracy']['Accuracy (%)']\n",
        "overall_accuracy['CiteSeer'] = citeseer_outcome['accuracy']['Accuracy (%)']"
      ],
      "execution_count": null,
      "outputs": []
    },
    {
      "cell_type": "code",
      "metadata": {
        "id": "cYuhffCz-3iV"
      },
      "source": [
        "overall_accuracy.plot(kind='bar', ylabel='Accuracy (%)')"
      ],
      "execution_count": null,
      "outputs": []
    },
    {
      "cell_type": "code",
      "metadata": {
        "id": "w110J6BV_Ft9"
      },
      "source": [
        "overall_accuracy"
      ],
      "execution_count": null,
      "outputs": []
    }
  ]
}