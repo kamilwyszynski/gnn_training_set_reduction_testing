{
  "nbformat": 4,
  "nbformat_minor": 0,
  "metadata": {
    "colab": {
      "name": "GNN_training_set_reduction.ipynb",
      "provenance": [],
      "collapsed_sections": [
        "wuCxBBDDL88a",
        "miLJkoYwwsbS",
        "0PkRDv1GgVEW",
        "K83X9n_mgeyJ",
        "cIbvX6SOqb4Y",
        "XZhv24B1fnWR",
        "N_A4dNNxqSnQ"
      ],
      "toc_visible": true,
      "authorship_tag": "ABX9TyOA+28Q07iDmP7SvRm2L1Ew",
      "include_colab_link": true
    },
    "kernelspec": {
      "name": "python3",
      "display_name": "Python 3"
    },
    "accelerator": "GPU"
  },
  "cells": [
    {
      "cell_type": "markdown",
      "metadata": {
        "id": "view-in-github",
        "colab_type": "text"
      },
      "source": [
        "<a href=\"https://colab.research.google.com/github/kamilwyszynski/gnn_training_set_reduction_testing/blob/main/GNN_training_set_reduction.ipynb\" target=\"_parent\"><img src=\"https://colab.research.google.com/assets/colab-badge.svg\" alt=\"Open In Colab\"/></a>"
      ]
    },
    {
      "cell_type": "markdown",
      "metadata": {
        "id": "kCS8vwDL423y"
      },
      "source": [
        "# Environment setup"
      ]
    },
    {
      "cell_type": "markdown",
      "metadata": {
        "id": "wuCxBBDDL88a"
      },
      "source": [
        "### Installations"
      ]
    },
    {
      "cell_type": "code",
      "metadata": {
        "colab": {
          "base_uri": "https://localhost:8080/"
        },
        "id": "2JgaKBUxAnPm",
        "outputId": "0eabcc7e-371c-40df-d956-f8e5452fb67a"
      },
      "source": [
        "!pip install --upgrade pip\n",
        "!pip install torch-geometric\n",
        "!pip install torch-scatter -f https://pytorch-geometric.com/whl/torch-1.7.0+cu101.html\n",
        "!pip install torch_sparse -f https://pytorch-geometric.com/whl/torch-1.7.0+cu101.html\n",
        "!pip install torch-cluster -f https://pytorch-geometric.com/whl/torch-1.7.0+cu101.html"
      ],
      "execution_count": null,
      "outputs": [
        {
          "output_type": "stream",
          "text": [
            "Collecting pip\n",
            "\u001b[?25l  Downloading https://files.pythonhosted.org/packages/55/73/bce122d1ed0217b3c1a3439ab16dfa94bbeabd0d31755fcf907493abf39b/pip-20.3-py2.py3-none-any.whl (1.5MB)\n",
            "\r\u001b[K     |▏                               | 10kB 25.3MB/s eta 0:00:01\r\u001b[K     |▍                               | 20kB 17.2MB/s eta 0:00:01\r\u001b[K     |▋                               | 30kB 16.0MB/s eta 0:00:01\r\u001b[K     |▉                               | 40kB 15.1MB/s eta 0:00:01\r\u001b[K     |█                               | 51kB 12.7MB/s eta 0:00:01\r\u001b[K     |█▎                              | 61kB 13.0MB/s eta 0:00:01\r\u001b[K     |█▌                              | 71kB 12.6MB/s eta 0:00:01\r\u001b[K     |█▊                              | 81kB 12.6MB/s eta 0:00:01\r\u001b[K     |██                              | 92kB 13.1MB/s eta 0:00:01\r\u001b[K     |██▏                             | 102kB 13.4MB/s eta 0:00:01\r\u001b[K     |██▍                             | 112kB 13.4MB/s eta 0:00:01\r\u001b[K     |██▋                             | 122kB 13.4MB/s eta 0:00:01\r\u001b[K     |██▉                             | 133kB 13.4MB/s eta 0:00:01\r\u001b[K     |███                             | 143kB 13.4MB/s eta 0:00:01\r\u001b[K     |███▎                            | 153kB 13.4MB/s eta 0:00:01\r\u001b[K     |███▌                            | 163kB 13.4MB/s eta 0:00:01\r\u001b[K     |███▊                            | 174kB 13.4MB/s eta 0:00:01\r\u001b[K     |███▉                            | 184kB 13.4MB/s eta 0:00:01\r\u001b[K     |████                            | 194kB 13.4MB/s eta 0:00:01\r\u001b[K     |████▎                           | 204kB 13.4MB/s eta 0:00:01\r\u001b[K     |████▌                           | 215kB 13.4MB/s eta 0:00:01\r\u001b[K     |████▊                           | 225kB 13.4MB/s eta 0:00:01\r\u001b[K     |█████                           | 235kB 13.4MB/s eta 0:00:01\r\u001b[K     |█████▏                          | 245kB 13.4MB/s eta 0:00:01\r\u001b[K     |█████▍                          | 256kB 13.4MB/s eta 0:00:01\r\u001b[K     |█████▋                          | 266kB 13.4MB/s eta 0:00:01\r\u001b[K     |█████▉                          | 276kB 13.4MB/s eta 0:00:01\r\u001b[K     |██████                          | 286kB 13.4MB/s eta 0:00:01\r\u001b[K     |██████▎                         | 296kB 13.4MB/s eta 0:00:01\r\u001b[K     |██████▌                         | 307kB 13.4MB/s eta 0:00:01\r\u001b[K     |██████▊                         | 317kB 13.4MB/s eta 0:00:01\r\u001b[K     |███████                         | 327kB 13.4MB/s eta 0:00:01\r\u001b[K     |███████▏                        | 337kB 13.4MB/s eta 0:00:01\r\u001b[K     |███████▍                        | 348kB 13.4MB/s eta 0:00:01\r\u001b[K     |███████▌                        | 358kB 13.4MB/s eta 0:00:01\r\u001b[K     |███████▊                        | 368kB 13.4MB/s eta 0:00:01\r\u001b[K     |████████                        | 378kB 13.4MB/s eta 0:00:01\r\u001b[K     |████████▏                       | 389kB 13.4MB/s eta 0:00:01\r\u001b[K     |████████▍                       | 399kB 13.4MB/s eta 0:00:01\r\u001b[K     |████████▋                       | 409kB 13.4MB/s eta 0:00:01\r\u001b[K     |████████▉                       | 419kB 13.4MB/s eta 0:00:01\r\u001b[K     |█████████                       | 430kB 13.4MB/s eta 0:00:01\r\u001b[K     |█████████▎                      | 440kB 13.4MB/s eta 0:00:01\r\u001b[K     |█████████▌                      | 450kB 13.4MB/s eta 0:00:01\r\u001b[K     |█████████▊                      | 460kB 13.4MB/s eta 0:00:01\r\u001b[K     |██████████                      | 471kB 13.4MB/s eta 0:00:01\r\u001b[K     |██████████▏                     | 481kB 13.4MB/s eta 0:00:01\r\u001b[K     |██████████▍                     | 491kB 13.4MB/s eta 0:00:01\r\u001b[K     |██████████▋                     | 501kB 13.4MB/s eta 0:00:01\r\u001b[K     |██████████▉                     | 512kB 13.4MB/s eta 0:00:01\r\u001b[K     |███████████                     | 522kB 13.4MB/s eta 0:00:01\r\u001b[K     |███████████▎                    | 532kB 13.4MB/s eta 0:00:01\r\u001b[K     |███████████▍                    | 542kB 13.4MB/s eta 0:00:01\r\u001b[K     |███████████▋                    | 552kB 13.4MB/s eta 0:00:01\r\u001b[K     |███████████▉                    | 563kB 13.4MB/s eta 0:00:01\r\u001b[K     |████████████                    | 573kB 13.4MB/s eta 0:00:01\r\u001b[K     |████████████▎                   | 583kB 13.4MB/s eta 0:00:01\r\u001b[K     |████████████▌                   | 593kB 13.4MB/s eta 0:00:01\r\u001b[K     |████████████▊                   | 604kB 13.4MB/s eta 0:00:01\r\u001b[K     |█████████████                   | 614kB 13.4MB/s eta 0:00:01\r\u001b[K     |█████████████▏                  | 624kB 13.4MB/s eta 0:00:01\r\u001b[K     |█████████████▍                  | 634kB 13.4MB/s eta 0:00:01\r\u001b[K     |█████████████▋                  | 645kB 13.4MB/s eta 0:00:01\r\u001b[K     |█████████████▉                  | 655kB 13.4MB/s eta 0:00:01\r\u001b[K     |██████████████                  | 665kB 13.4MB/s eta 0:00:01\r\u001b[K     |██████████████▎                 | 675kB 13.4MB/s eta 0:00:01\r\u001b[K     |██████████████▌                 | 686kB 13.4MB/s eta 0:00:01\r\u001b[K     |██████████████▊                 | 696kB 13.4MB/s eta 0:00:01\r\u001b[K     |███████████████                 | 706kB 13.4MB/s eta 0:00:01\r\u001b[K     |███████████████                 | 716kB 13.4MB/s eta 0:00:01\r\u001b[K     |███████████████▎                | 727kB 13.4MB/s eta 0:00:01\r\u001b[K     |███████████████▌                | 737kB 13.4MB/s eta 0:00:01\r\u001b[K     |███████████████▊                | 747kB 13.4MB/s eta 0:00:01\r\u001b[K     |████████████████                | 757kB 13.4MB/s eta 0:00:01\r\u001b[K     |████████████████▏               | 768kB 13.4MB/s eta 0:00:01\r\u001b[K     |████████████████▍               | 778kB 13.4MB/s eta 0:00:01\r\u001b[K     |████████████████▋               | 788kB 13.4MB/s eta 0:00:01\r\u001b[K     |████████████████▉               | 798kB 13.4MB/s eta 0:00:01\r\u001b[K     |█████████████████               | 808kB 13.4MB/s eta 0:00:01\r\u001b[K     |█████████████████▎              | 819kB 13.4MB/s eta 0:00:01\r\u001b[K     |█████████████████▌              | 829kB 13.4MB/s eta 0:00:01\r\u001b[K     |█████████████████▊              | 839kB 13.4MB/s eta 0:00:01\r\u001b[K     |██████████████████              | 849kB 13.4MB/s eta 0:00:01\r\u001b[K     |██████████████████▏             | 860kB 13.4MB/s eta 0:00:01\r\u001b[K     |██████████████████▍             | 870kB 13.4MB/s eta 0:00:01\r\u001b[K     |██████████████████▋             | 880kB 13.4MB/s eta 0:00:01\r\u001b[K     |██████████████████▊             | 890kB 13.4MB/s eta 0:00:01\r\u001b[K     |███████████████████             | 901kB 13.4MB/s eta 0:00:01\r\u001b[K     |███████████████████▏            | 911kB 13.4MB/s eta 0:00:01\r\u001b[K     |███████████████████▍            | 921kB 13.4MB/s eta 0:00:01\r\u001b[K     |███████████████████▋            | 931kB 13.4MB/s eta 0:00:01\r\u001b[K     |███████████████████▉            | 942kB 13.4MB/s eta 0:00:01\r\u001b[K     |████████████████████            | 952kB 13.4MB/s eta 0:00:01\r\u001b[K     |████████████████████▎           | 962kB 13.4MB/s eta 0:00:01\r\u001b[K     |████████████████████▌           | 972kB 13.4MB/s eta 0:00:01\r\u001b[K     |████████████████████▊           | 983kB 13.4MB/s eta 0:00:01\r\u001b[K     |█████████████████████           | 993kB 13.4MB/s eta 0:00:01\r\u001b[K     |█████████████████████▏          | 1.0MB 13.4MB/s eta 0:00:01\r\u001b[K     |█████████████████████▍          | 1.0MB 13.4MB/s eta 0:00:01\r\u001b[K     |█████████████████████▋          | 1.0MB 13.4MB/s eta 0:00:01\r\u001b[K     |█████████████████████▉          | 1.0MB 13.4MB/s eta 0:00:01\r\u001b[K     |██████████████████████          | 1.0MB 13.4MB/s eta 0:00:01\r\u001b[K     |██████████████████████▎         | 1.1MB 13.4MB/s eta 0:00:01\r\u001b[K     |██████████████████████▌         | 1.1MB 13.4MB/s eta 0:00:01\r\u001b[K     |██████████████████████▋         | 1.1MB 13.4MB/s eta 0:00:01\r\u001b[K     |██████████████████████▉         | 1.1MB 13.4MB/s eta 0:00:01\r\u001b[K     |███████████████████████         | 1.1MB 13.4MB/s eta 0:00:01\r\u001b[K     |███████████████████████▎        | 1.1MB 13.4MB/s eta 0:00:01\r\u001b[K     |███████████████████████▌        | 1.1MB 13.4MB/s eta 0:00:01\r\u001b[K     |███████████████████████▊        | 1.1MB 13.4MB/s eta 0:00:01\r\u001b[K     |████████████████████████        | 1.1MB 13.4MB/s eta 0:00:01\r\u001b[K     |████████████████████████▏       | 1.1MB 13.4MB/s eta 0:00:01\r\u001b[K     |████████████████████████▍       | 1.2MB 13.4MB/s eta 0:00:01\r\u001b[K     |████████████████████████▋       | 1.2MB 13.4MB/s eta 0:00:01\r\u001b[K     |████████████████████████▉       | 1.2MB 13.4MB/s eta 0:00:01\r\u001b[K     |█████████████████████████       | 1.2MB 13.4MB/s eta 0:00:01\r\u001b[K     |█████████████████████████▎      | 1.2MB 13.4MB/s eta 0:00:01\r\u001b[K     |█████████████████████████▌      | 1.2MB 13.4MB/s eta 0:00:01\r\u001b[K     |█████████████████████████▊      | 1.2MB 13.4MB/s eta 0:00:01\r\u001b[K     |██████████████████████████      | 1.2MB 13.4MB/s eta 0:00:01\r\u001b[K     |██████████████████████████▏     | 1.2MB 13.4MB/s eta 0:00:01\r\u001b[K     |██████████████████████████▎     | 1.2MB 13.4MB/s eta 0:00:01\r\u001b[K     |██████████████████████████▌     | 1.3MB 13.4MB/s eta 0:00:01\r\u001b[K     |██████████████████████████▊     | 1.3MB 13.4MB/s eta 0:00:01\r\u001b[K     |███████████████████████████     | 1.3MB 13.4MB/s eta 0:00:01\r\u001b[K     |███████████████████████████▏    | 1.3MB 13.4MB/s eta 0:00:01\r\u001b[K     |███████████████████████████▍    | 1.3MB 13.4MB/s eta 0:00:01\r\u001b[K     |███████████████████████████▋    | 1.3MB 13.4MB/s eta 0:00:01\r\u001b[K     |███████████████████████████▉    | 1.3MB 13.4MB/s eta 0:00:01\r\u001b[K     |████████████████████████████    | 1.3MB 13.4MB/s eta 0:00:01\r\u001b[K     |████████████████████████████▎   | 1.3MB 13.4MB/s eta 0:00:01\r\u001b[K     |████████████████████████████▌   | 1.4MB 13.4MB/s eta 0:00:01\r\u001b[K     |████████████████████████████▊   | 1.4MB 13.4MB/s eta 0:00:01\r\u001b[K     |█████████████████████████████   | 1.4MB 13.4MB/s eta 0:00:01\r\u001b[K     |█████████████████████████████▏  | 1.4MB 13.4MB/s eta 0:00:01\r\u001b[K     |█████████████████████████████▍  | 1.4MB 13.4MB/s eta 0:00:01\r\u001b[K     |█████████████████████████████▋  | 1.4MB 13.4MB/s eta 0:00:01\r\u001b[K     |█████████████████████████████▉  | 1.4MB 13.4MB/s eta 0:00:01\r\u001b[K     |██████████████████████████████  | 1.4MB 13.4MB/s eta 0:00:01\r\u001b[K     |██████████████████████████████▏ | 1.4MB 13.4MB/s eta 0:00:01\r\u001b[K     |██████████████████████████████▍ | 1.4MB 13.4MB/s eta 0:00:01\r\u001b[K     |██████████████████████████████▋ | 1.5MB 13.4MB/s eta 0:00:01\r\u001b[K     |██████████████████████████████▉ | 1.5MB 13.4MB/s eta 0:00:01\r\u001b[K     |███████████████████████████████ | 1.5MB 13.4MB/s eta 0:00:01\r\u001b[K     |███████████████████████████████▎| 1.5MB 13.4MB/s eta 0:00:01\r\u001b[K     |███████████████████████████████▌| 1.5MB 13.4MB/s eta 0:00:01\r\u001b[K     |███████████████████████████████▊| 1.5MB 13.4MB/s eta 0:00:01\r\u001b[K     |████████████████████████████████| 1.5MB 13.4MB/s eta 0:00:01\r\u001b[K     |████████████████████████████████| 1.5MB 13.4MB/s \n",
            "\u001b[?25hInstalling collected packages: pip\n",
            "  Found existing installation: pip 19.3.1\n",
            "    Uninstalling pip-19.3.1:\n",
            "      Successfully uninstalled pip-19.3.1\n",
            "Successfully installed pip-20.3\n",
            "Collecting torch-geometric\n",
            "  Downloading torch_geometric-1.6.3.tar.gz (186 kB)\n",
            "\u001b[K     |████████████████████████████████| 186 kB 17.2 MB/s \n",
            "\u001b[?25hRequirement already satisfied: torch in /usr/local/lib/python3.6/dist-packages (from torch-geometric) (1.7.0+cu101)\n",
            "Requirement already satisfied: numpy in /usr/local/lib/python3.6/dist-packages (from torch-geometric) (1.18.5)\n",
            "Requirement already satisfied: tqdm in /usr/local/lib/python3.6/dist-packages (from torch-geometric) (4.41.1)\n",
            "Requirement already satisfied: scipy in /usr/local/lib/python3.6/dist-packages (from torch-geometric) (1.4.1)\n",
            "Requirement already satisfied: networkx in /usr/local/lib/python3.6/dist-packages (from torch-geometric) (2.5)\n",
            "Requirement already satisfied: python-louvain in /usr/local/lib/python3.6/dist-packages (from torch-geometric) (0.14)\n",
            "Requirement already satisfied: scikit-learn in /usr/local/lib/python3.6/dist-packages (from torch-geometric) (0.22.2.post1)\n",
            "Requirement already satisfied: numba in /usr/local/lib/python3.6/dist-packages (from torch-geometric) (0.48.0)\n",
            "Requirement already satisfied: requests in /usr/local/lib/python3.6/dist-packages (from torch-geometric) (2.23.0)\n",
            "Requirement already satisfied: pandas in /usr/local/lib/python3.6/dist-packages (from torch-geometric) (1.1.4)\n",
            "Requirement already satisfied: h5py in /usr/local/lib/python3.6/dist-packages (from torch-geometric) (2.10.0)\n",
            "Requirement already satisfied: googledrivedownloader in /usr/local/lib/python3.6/dist-packages (from torch-geometric) (0.4)\n",
            "Requirement already satisfied: jinja2 in /usr/local/lib/python3.6/dist-packages (from torch-geometric) (2.11.2)\n",
            "Collecting ase\n",
            "  Downloading ase-3.20.1-py3-none-any.whl (2.2 MB)\n",
            "\u001b[K     |████████████████████████████████| 2.2 MB 14.5 MB/s \n",
            "\u001b[?25hRequirement already satisfied: matplotlib>=2.0.0 in /usr/local/lib/python3.6/dist-packages (from ase->torch-geometric) (3.2.2)\n",
            "Requirement already satisfied: numpy in /usr/local/lib/python3.6/dist-packages (from torch-geometric) (1.18.5)\n",
            "Requirement already satisfied: scipy in /usr/local/lib/python3.6/dist-packages (from torch-geometric) (1.4.1)\n",
            "Requirement already satisfied: six in /usr/local/lib/python3.6/dist-packages (from h5py->torch-geometric) (1.15.0)\n",
            "Requirement already satisfied: numpy in /usr/local/lib/python3.6/dist-packages (from torch-geometric) (1.18.5)\n",
            "Requirement already satisfied: MarkupSafe>=0.23 in /usr/local/lib/python3.6/dist-packages (from jinja2->torch-geometric) (1.1.1)\n",
            "Requirement already satisfied: pyparsing!=2.0.4,!=2.1.2,!=2.1.6,>=2.0.1 in /usr/local/lib/python3.6/dist-packages (from matplotlib>=2.0.0->ase->torch-geometric) (2.4.7)\n",
            "Requirement already satisfied: numpy in /usr/local/lib/python3.6/dist-packages (from torch-geometric) (1.18.5)\n",
            "Requirement already satisfied: cycler>=0.10 in /usr/local/lib/python3.6/dist-packages (from matplotlib>=2.0.0->ase->torch-geometric) (0.10.0)\n",
            "Requirement already satisfied: python-dateutil>=2.1 in /usr/local/lib/python3.6/dist-packages (from matplotlib>=2.0.0->ase->torch-geometric) (2.8.1)\n",
            "Requirement already satisfied: kiwisolver>=1.0.1 in /usr/local/lib/python3.6/dist-packages (from matplotlib>=2.0.0->ase->torch-geometric) (1.3.1)\n",
            "Requirement already satisfied: six in /usr/local/lib/python3.6/dist-packages (from h5py->torch-geometric) (1.15.0)\n",
            "Requirement already satisfied: decorator>=4.3.0 in /usr/local/lib/python3.6/dist-packages (from networkx->torch-geometric) (4.4.2)\n",
            "Requirement already satisfied: numpy in /usr/local/lib/python3.6/dist-packages (from torch-geometric) (1.18.5)\n",
            "Requirement already satisfied: llvmlite<0.32.0,>=0.31.0dev0 in /usr/local/lib/python3.6/dist-packages (from numba->torch-geometric) (0.31.0)\n",
            "Requirement already satisfied: setuptools in /usr/local/lib/python3.6/dist-packages (from numba->torch-geometric) (50.3.2)\n",
            "Requirement already satisfied: python-dateutil>=2.1 in /usr/local/lib/python3.6/dist-packages (from matplotlib>=2.0.0->ase->torch-geometric) (2.8.1)\n",
            "Requirement already satisfied: pytz>=2017.2 in /usr/local/lib/python3.6/dist-packages (from pandas->torch-geometric) (2018.9)\n",
            "Requirement already satisfied: numpy in /usr/local/lib/python3.6/dist-packages (from torch-geometric) (1.18.5)\n",
            "Requirement already satisfied: six in /usr/local/lib/python3.6/dist-packages (from h5py->torch-geometric) (1.15.0)\n",
            "Requirement already satisfied: networkx in /usr/local/lib/python3.6/dist-packages (from torch-geometric) (2.5)\n",
            "Requirement already satisfied: numpy in /usr/local/lib/python3.6/dist-packages (from torch-geometric) (1.18.5)\n",
            "Collecting rdflib\n",
            "  Downloading rdflib-5.0.0-py3-none-any.whl (231 kB)\n",
            "\u001b[K     |████████████████████████████████| 231 kB 46.5 MB/s \n",
            "\u001b[?25hRequirement already satisfied: pyparsing!=2.0.4,!=2.1.2,!=2.1.6,>=2.0.1 in /usr/local/lib/python3.6/dist-packages (from matplotlib>=2.0.0->ase->torch-geometric) (2.4.7)\n",
            "Requirement already satisfied: six in /usr/local/lib/python3.6/dist-packages (from h5py->torch-geometric) (1.15.0)\n",
            "Collecting isodate\n",
            "  Downloading isodate-0.6.0-py2.py3-none-any.whl (45 kB)\n",
            "\u001b[K     |████████████████████████████████| 45 kB 4.8 MB/s \n",
            "\u001b[?25hRequirement already satisfied: six in /usr/local/lib/python3.6/dist-packages (from h5py->torch-geometric) (1.15.0)\n",
            "Requirement already satisfied: idna<3,>=2.5 in /usr/local/lib/python3.6/dist-packages (from requests->torch-geometric) (2.10)\n",
            "Requirement already satisfied: urllib3!=1.25.0,!=1.25.1,<1.26,>=1.21.1 in /usr/local/lib/python3.6/dist-packages (from requests->torch-geometric) (1.24.3)\n",
            "Requirement already satisfied: certifi>=2017.4.17 in /usr/local/lib/python3.6/dist-packages (from requests->torch-geometric) (2020.11.8)\n",
            "Requirement already satisfied: chardet<4,>=3.0.2 in /usr/local/lib/python3.6/dist-packages (from requests->torch-geometric) (3.0.4)\n",
            "Requirement already satisfied: numpy in /usr/local/lib/python3.6/dist-packages (from torch-geometric) (1.18.5)\n",
            "Requirement already satisfied: joblib>=0.11 in /usr/local/lib/python3.6/dist-packages (from scikit-learn->torch-geometric) (0.17.0)\n",
            "Requirement already satisfied: scipy in /usr/local/lib/python3.6/dist-packages (from torch-geometric) (1.4.1)\n",
            "Requirement already satisfied: numpy in /usr/local/lib/python3.6/dist-packages (from torch-geometric) (1.18.5)\n",
            "Requirement already satisfied: future in /usr/local/lib/python3.6/dist-packages (from torch->torch-geometric) (0.16.0)\n",
            "Requirement already satisfied: dataclasses in /usr/local/lib/python3.6/dist-packages (from torch->torch-geometric) (0.8)\n",
            "Requirement already satisfied: typing-extensions in /usr/local/lib/python3.6/dist-packages (from torch->torch-geometric) (3.7.4.3)\n",
            "Requirement already satisfied: numpy in /usr/local/lib/python3.6/dist-packages (from torch-geometric) (1.18.5)\n",
            "Building wheels for collected packages: torch-geometric\n",
            "  Building wheel for torch-geometric (setup.py) ... \u001b[?25l\u001b[?25hdone\n",
            "  Created wheel for torch-geometric: filename=torch_geometric-1.6.3-py3-none-any.whl size=322718 sha256=8cf5d3345810a49a24dc43bb43ef4fb64de160c0a97b441b29af2a50c4cc3c8b\n",
            "  Stored in directory: /root/.cache/pip/wheels/55/be/05/a068e58b901163f619e69824868d3ca17171b1482446f585d8\n",
            "Successfully built torch-geometric\n",
            "Installing collected packages: isodate, rdflib, ase, torch-geometric\n",
            "Successfully installed ase-3.20.1 isodate-0.6.0 rdflib-5.0.0 torch-geometric-1.6.3\n",
            "Looking in links: https://pytorch-geometric.com/whl/torch-1.7.0+cu101.html\n",
            "Collecting torch-scatter\n",
            "  Downloading https://pytorch-geometric.com/whl/torch-1.7.0%2Bcu101/torch_scatter-2.0.5-cp36-cp36m-linux_x86_64.whl (11.9 MB)\n",
            "\u001b[K     |████████████████████████████████| 11.9 MB 5.5 MB/s \n",
            "\u001b[?25hInstalling collected packages: torch-scatter\n",
            "Successfully installed torch-scatter-2.0.5\n",
            "Looking in links: https://pytorch-geometric.com/whl/torch-1.7.0+cu101.html\n",
            "Collecting torch_sparse\n",
            "  Downloading https://pytorch-geometric.com/whl/torch-1.7.0%2Bcu101/torch_sparse-0.6.8-cp36-cp36m-linux_x86_64.whl (24.3 MB)\n",
            "\u001b[K     |████████████████████████████████| 24.3 MB 31 kB/s \n",
            "\u001b[?25hRequirement already satisfied: scipy in /usr/local/lib/python3.6/dist-packages (from torch_sparse) (1.4.1)\n",
            "Requirement already satisfied: numpy>=1.13.3 in /usr/local/lib/python3.6/dist-packages (from scipy->torch_sparse) (1.18.5)\n",
            "Installing collected packages: torch-sparse\n",
            "Successfully installed torch-sparse-0.6.8\n",
            "Looking in links: https://pytorch-geometric.com/whl/torch-1.7.0+cu101.html\n",
            "Collecting torch-cluster\n",
            "  Downloading https://pytorch-geometric.com/whl/torch-1.7.0%2Bcu101/torch_cluster-1.5.8-cp36-cp36m-linux_x86_64.whl (21.5 MB)\n",
            "\u001b[K     |████████████████████████████████| 21.5 MB 89 kB/s \n",
            "\u001b[?25hInstalling collected packages: torch-cluster\n",
            "Successfully installed torch-cluster-1.5.8\n"
          ],
          "name": "stdout"
        }
      ]
    },
    {
      "cell_type": "markdown",
      "metadata": {
        "id": "BMX1vBZLbTbI"
      },
      "source": [
        "### Modules"
      ]
    },
    {
      "cell_type": "code",
      "metadata": {
        "id": "_DnzjuAdbSnz",
        "colab": {
          "base_uri": "https://localhost:8080/",
          "height": 17
        },
        "outputId": "ce399b62-fb15-4eed-8f14-779d9c890f2e"
      },
      "source": [
        "import torch_geometric\n",
        "import numpy as np\n",
        "import pandas as pd\n",
        "import matplotlib.pyplot as plt\n",
        "import torch\n",
        "from torch.nn import Linear\n",
        "import torch.nn.functional as F\n",
        "from torch_geometric.nn import GCNConv\n",
        "from sklearn.model_selection import train_test_split\n",
        "from torch_geometric.datasets import Planetoid\n",
        "from torch_geometric.transforms import NormalizeFeatures\n",
        "from sklearn.manifold import TSNE\n",
        "%matplotlib inline\n",
        "from IPython.display import Javascript  # Restrict height of output cell.\n",
        "display(Javascript('''google.colab.output.setIframeHeight(0, true, {maxHeight: 150})'''))"
      ],
      "execution_count": null,
      "outputs": [
        {
          "output_type": "display_data",
          "data": {
            "application/javascript": [
              "google.colab.output.setIframeHeight(0, true, {maxHeight: 150})"
            ],
            "text/plain": [
              "<IPython.core.display.Javascript object>"
            ]
          },
          "metadata": {
            "tags": []
          }
        }
      ]
    },
    {
      "cell_type": "markdown",
      "metadata": {
        "id": "K83X9n_mgeyJ"
      },
      "source": [
        "### Helper functions\n",
        "\n",
        "* `print_dataset_details` - \n",
        "* `get_base_prediction_rate` - \n",
        "* `train` - One-pass train function\n",
        "* `test` - Test function\n",
        "* `train_epochs` - Train process function that displays loss and accuracy info\n",
        "* `test_accuracy_distribution` - Function printing out the prediction accuracy accross different classes\n",
        "* `get_reduced_train_dataset` - Get a dataset with reduced train mask\n",
        "* `get_trained_gcn_model` - Create, train and return a model\n",
        "* `visualize` - Graph visualisation\n",
        "* `perform_test_series` - Perform an entire test set"
      ]
    },
    {
      "cell_type": "code",
      "metadata": {
        "id": "wWJvvPm8gSWj"
      },
      "source": [
        "def print_dataset_details(dataset):\n",
        "    print()\n",
        "    print(f'Dataset: {dataset}:')\n",
        "    print('======================')\n",
        "    print(f'Number of graphs: {len(dataset)}')\n",
        "    print(f'Number of features: {dataset.num_features}')\n",
        "    print(f'Number of classes: {dataset.num_classes}')\n",
        "\n",
        "    data = dataset[0]  # Get the first graph object.\n",
        "\n",
        "    print()\n",
        "    print(data)\n",
        "    print('===========================================================================================================')\n",
        "\n",
        "    # Gather some statistics about the graph.\n",
        "    print(f'Number of nodes: {data.num_nodes}')\n",
        "    print(f'Number of edges: {data.num_edges}')\n",
        "    print(f'Average node degree: {data.num_edges / data.num_nodes:.2f}')\n",
        "    print(f'Number of training nodes: {data.train_mask.sum()}')\n",
        "    print(f'Training node label rate: {int(data.train_mask.sum()) / data.num_nodes:.2f}')\n",
        "    print(f'Contains isolated nodes: {data.contains_isolated_nodes()}')\n",
        "    print(f'Contains self-loops: {data.contains_self_loops()}')\n",
        "    print(f'Is undirected: {data.is_undirected()}')\n",
        "\n",
        "def get_base_prediction_rate(data):\n",
        "    largest_class = max([np.sum(data.y.numpy() == i) for i in data.y.unique().numpy()])\n",
        "    return round(largest_class / len(data.y), 3)\n",
        "\n",
        "def train(model, data, optimizer, criterion):\n",
        "  model.train()\n",
        "  optimizer.zero_grad()  # Clear gradients.\n",
        "  out = model(data.x, data.edge_index)  # Perform a single forward pass.\n",
        "  loss = criterion(out[data.train_mask], data.y[data.train_mask])  # Compute the loss solely based on the training nodes.\n",
        "  loss.backward()  # Derive gradients.\n",
        "  optimizer.step()  # Update parameters based on gradients.\n",
        "  return loss\n",
        "\n",
        "def test(model, data):\n",
        "  model.eval()\n",
        "  out = model(data.x, data.edge_index)\n",
        "  pred = out.argmax(dim=1)  # Use the class with highest probability.\n",
        "  test_correct = pred[data.test_mask] == data.y[data.test_mask]  # Check against ground-truth labels.\n",
        "  test_acc = int(test_correct.sum()) / int(data.test_mask.sum())  # Derive ratio of correct predictions.\n",
        "  return test_acc\n",
        "\n",
        "def train_epochs(model, data, optimizer, criterion, epochs=100, checkpoints=[]):\n",
        "  for epoch in range(1, epochs+1):\n",
        "    loss = train(model, data, optimizer, criterion)\n",
        "\n",
        "    if epoch in checkpoints:\n",
        "      acc = test(model, data)\n",
        "      print(f'Epoch: {epoch:03d}\\n\\tLoss: {loss:.4f}\\n\\tAccuracy: {100*acc:.2f}\\n')\n",
        "\n",
        "def test_accuracy_distribution(model, data, print_details=False):\n",
        "    model.eval()\n",
        "    out = model(data.x, data.edge_index)\n",
        "    pred = out.argmax(dim=1)\n",
        "\n",
        "    correct_classes = data.y[data.test_mask]\n",
        "    predicted_classes = pred[data.test_mask]\n",
        "\n",
        "    test_correct = predicted_classes == correct_classes\n",
        "    correctly_predicted_classes = correct_classes[test_correct] # Get only correctly predicted\n",
        "\n",
        "    correctly_predicted = []\n",
        "    accuracy = []\n",
        "\n",
        "    display(Javascript('''google.colab.output.setIframeHeight(0, true, {maxHeight: 300})'''))\n",
        "    if print_details:\n",
        "        print('Test classes:')\n",
        "    for c in data.y.unique().numpy():\n",
        "        num_of_correct_nodes = (correctly_predicted_classes==c).sum()\n",
        "        num_of_test_nodes = (correct_classes==c).sum()\n",
        "        num_of_nodes = (data.y==c).sum()\n",
        "        if print:\n",
        "            print(f'\\nClass {c}: \\\n",
        "            \\n\\tCorrect nodes: {num_of_correct_nodes}\\\n",
        "            \\n\\tTest nodes: {num_of_test_nodes}\\\n",
        "            \\n\\tTest representation: {100*num_of_test_nodes/num_of_nodes:.2f}%\\\n",
        "            \\n\\tAccuracy: {100*num_of_correct_nodes/num_of_test_nodes:.2f}%')\n",
        "\n",
        "        accuracy.append(float(100*num_of_correct_nodes/num_of_test_nodes))\n",
        "        correctly_predicted.append(int(num_of_correct_nodes))\n",
        "\n",
        "    return accuracy, correctly_predicted\n",
        "\n",
        "def get_reduced_train_dataset(dataset, train_size):\n",
        "    data = dataset[0]\n",
        "    train_classes = data.y[data.train_mask].numpy()\n",
        "\n",
        "    if (type(train_size) == float) & (train_size == 1):\n",
        "        return data\n",
        "\n",
        "    # Create a stratified sample of the default train set\n",
        "    train_idx, _ = train_test_split(np.arange(len(train_classes)),\n",
        "                                    train_size=train_size,\n",
        "                                    stratify=train_classes)\n",
        "\n",
        "    new_train_mask = torch.zeros(data.num_nodes, dtype=torch.bool)\n",
        "    new_train_mask[train_idx] = True\n",
        "    data.train_mask = new_train_mask\n",
        "\n",
        "    # print(f'Number of new train nodes: {int(new_train_mask.sum())}')\n",
        "\n",
        "    return data\n",
        "\n",
        "def get_trained_gcn_model(dataset, train_size=1.0, hidden_channels=16):\n",
        "    # Get training data\n",
        "    data = get_reduced_train_dataset(dataset, train_size)\n",
        "\n",
        "    # Create model, opt and crit\n",
        "    model = GCN(hidden_channels=16, dataset=dataset)\n",
        "    optimizer = torch.optim.Adam(model.parameters(), lr=0.01, weight_decay=5e-4)\n",
        "    criterion = torch.nn.CrossEntropyLoss()\n",
        "\n",
        "    # train model\n",
        "    train_epochs(model, data, optimizer, criterion, epochs=200)\n",
        "\n",
        "    return model\n",
        "\n",
        "def visualize(h, color):\n",
        "    z = TSNE(n_components=2).fit_transform(out.detach().cpu().numpy())\n",
        "\n",
        "    plt.figure(figsize=(10,10))\n",
        "    plt.xticks([])\n",
        "    plt.yticks([])\n",
        "\n",
        "    plt.scatter(z[:, 0], z[:, 1], s=70, c=color, cmap=\"Set2\")\n",
        "    plt.show()\n",
        "\n",
        "def perform_test_series(dataset, train_sizes):\n",
        "    models = {}\n",
        "    accuracies = {}\n",
        "    class_accuracies = {}\n",
        "    correct_predtions = {}\n",
        "    number_of_training_nodes = {}\n",
        "\n",
        "    # train and test models\n",
        "    for i, train_size in enumerate(train_sizes, start=1):\n",
        "        # Getting data here only to count the number of training nodes\n",
        "        # There's probably a better way to do this\n",
        "        data = get_reduced_train_dataset(dataset, train_size)\n",
        "\n",
        "        model = get_trained_gcn_model(dataset, train_size)\n",
        "        acc, corr = test_accuracy_distribution(model, dataset[0])\n",
        "\n",
        "        models[f'Test {i}'] = model\n",
        "        accuracies[f'Test {i}'] = test(model, dataset[0])\n",
        "        class_accuracies[f'Test {i}'] = acc\n",
        "        correct_predtions[f'Test {i}'] = corr\n",
        "        number_of_training_nodes[f'Test {i}'] = int(data.train_mask.sum())\n",
        "\n",
        "    # compose dataframes\n",
        "    accuracy = pd.DataFrame({'Number of training nodes': number_of_training_nodes.values(),\n",
        "                             'Accuracy (%)':accuracies.values()},\n",
        "                            # columns=['Number of training nodes', 'Accuracy (%)'],\n",
        "                            index=accuracies.keys())\n",
        "    accuracy['Accuracy change (%)'] = accuracy['Accuracy (%)'].pct_change() * 100\n",
        "\n",
        "    class_accuracy = pd.DataFrame(class_accuracies).T\n",
        "    correct_predtion = pd.DataFrame(correct_predtions).T\n",
        "    \n",
        "    return {'accuracy': accuracy,\n",
        "            'class_accuracy': class_accuracy, \n",
        "            'correct_predtion': correct_predtion,\n",
        "            'models': models}"
      ],
      "execution_count": null,
      "outputs": []
    },
    {
      "cell_type": "markdown",
      "metadata": {
        "id": "0PkRDv1GgVEW"
      },
      "source": [
        "### GCN model\n",
        "\n",
        "* Create a simple, reusable GCN model class"
      ]
    },
    {
      "cell_type": "code",
      "metadata": {
        "id": "cI5Bpqd-KuQD"
      },
      "source": [
        "class GCN(torch.nn.Module):\n",
        "    def __init__(self, hidden_channels, dataset):\n",
        "        super(GCN, self).__init__()\n",
        "        torch.manual_seed(12345)\n",
        "        self.conv1 = GCNConv(dataset.num_features, hidden_channels)\n",
        "        self.conv2 = GCNConv(hidden_channels, dataset.num_classes)\n",
        "\n",
        "    def forward(self, x, edge_index):\n",
        "        x = self.conv1(x, edge_index)\n",
        "        x = x.relu()\n",
        "        x = F.dropout(x, p=0.5, training=self.training)\n",
        "        x = self.conv2(x, edge_index)\n",
        "        return x"
      ],
      "execution_count": null,
      "outputs": []
    },
    {
      "cell_type": "markdown",
      "metadata": {
        "id": "w1DMUJSGVHwE"
      },
      "source": [
        "# Cora Dataset"
      ]
    },
    {
      "cell_type": "markdown",
      "metadata": {
        "id": "miLJkoYwwsbS"
      },
      "source": [
        "### Dataset setup\n",
        "\n",
        "* Get the Cora dataset\n",
        "* Print out useful insights into the dataset"
      ]
    },
    {
      "cell_type": "code",
      "metadata": {
        "colab": {
          "base_uri": "https://localhost:8080/"
        },
        "id": "43MlgiHuKdZq",
        "outputId": "9138b495-699c-4f84-b30c-c42b54a064c9"
      },
      "source": [
        "cora = Planetoid(root='data/Planetoid', name='Cora', transform=NormalizeFeatures())\n",
        "print_dataset_details(cora)"
      ],
      "execution_count": null,
      "outputs": [
        {
          "output_type": "stream",
          "text": [
            "\n",
            "Dataset: Cora():\n",
            "======================\n",
            "Number of graphs: 1\n",
            "Number of features: 1433\n",
            "Number of classes: 7\n",
            "\n",
            "Data(edge_index=[2, 10556], test_mask=[2708], train_mask=[2708], val_mask=[2708], x=[2708, 1433], y=[2708])\n",
            "===========================================================================================================\n",
            "Number of nodes: 2708\n",
            "Number of edges: 10556\n",
            "Average node degree: 3.90\n",
            "Number of training nodes: 140\n",
            "Training node label rate: 0.05\n",
            "Contains isolated nodes: False\n",
            "Contains self-loops: False\n",
            "Is undirected: True\n"
          ],
          "name": "stdout"
        }
      ]
    },
    {
      "cell_type": "markdown",
      "metadata": {
        "id": "cIbvX6SOqb4Y"
      },
      "source": [
        "### Train mask discovery\n",
        "\n",
        "* Gather useful insights about the dafault training mask"
      ]
    },
    {
      "cell_type": "code",
      "metadata": {
        "id": "awtLnp7yqfGn"
      },
      "source": [
        "data = cora[0]\n",
        "default_training_mask = data.train_mask # Boolean Tensor\n",
        "train_indices = default_training_mask.nonzero().flatten() # First 140 indices are train nodes"
      ],
      "execution_count": null,
      "outputs": []
    },
    {
      "cell_type": "code",
      "metadata": {
        "colab": {
          "base_uri": "https://localhost:8080/",
          "height": 300
        },
        "id": "t1fLooQfu7yR",
        "outputId": "08149a77-572f-48aa-9689-29c4454e96ae"
      },
      "source": [
        "train_classes = data.y[train_indices]\n",
        "\n",
        "display(Javascript('''google.colab.output.setIframeHeight(0, true, {maxHeight: 300})'''))\n",
        "print('Training classes:')\n",
        "for c in train_classes.unique():\n",
        "    num_of_train_nodes = (train_classes==c).sum()\n",
        "    num_of_nodes = (data.y==c).sum()\n",
        "    print(f'\\nClass {c}: \\\n",
        "    \\n\\tTrain nodes: {num_of_train_nodes}\\\n",
        "    \\n\\tOverall nodes: {num_of_nodes}\\\n",
        "    \\n\\tTraining representation: {100*num_of_train_nodes/num_of_nodes:.2f}%')"
      ],
      "execution_count": null,
      "outputs": [
        {
          "output_type": "display_data",
          "data": {
            "application/javascript": [
              "google.colab.output.setIframeHeight(0, true, {maxHeight: 300})"
            ],
            "text/plain": [
              "<IPython.core.display.Javascript object>"
            ]
          },
          "metadata": {
            "tags": []
          }
        },
        {
          "output_type": "stream",
          "text": [
            "Training classes:\n",
            "\n",
            "Class 0:     \n",
            "\tTrain nodes: 20    \n",
            "\tOverall nodes: 351    \n",
            "\tTraining representation: 5.70%\n",
            "\n",
            "Class 1:     \n",
            "\tTrain nodes: 20    \n",
            "\tOverall nodes: 217    \n",
            "\tTraining representation: 9.22%\n",
            "\n",
            "Class 2:     \n",
            "\tTrain nodes: 20    \n",
            "\tOverall nodes: 418    \n",
            "\tTraining representation: 4.78%\n",
            "\n",
            "Class 3:     \n",
            "\tTrain nodes: 20    \n",
            "\tOverall nodes: 818    \n",
            "\tTraining representation: 2.44%\n",
            "\n",
            "Class 4:     \n",
            "\tTrain nodes: 20    \n",
            "\tOverall nodes: 426    \n",
            "\tTraining representation: 4.69%\n",
            "\n",
            "Class 5:     \n",
            "\tTrain nodes: 20    \n",
            "\tOverall nodes: 298    \n",
            "\tTraining representation: 6.71%\n",
            "\n",
            "Class 6:     \n",
            "\tTrain nodes: 20    \n",
            "\tOverall nodes: 180    \n",
            "\tTraining representation: 11.11%\n"
          ],
          "name": "stdout"
        }
      ]
    },
    {
      "cell_type": "markdown",
      "metadata": {
        "id": "_OmMFSDey8N4"
      },
      "source": [
        "### Base prediction rate\n",
        "\n",
        "This is an estimation of what is the lowest plausible accuracy for a specified datased "
      ]
    },
    {
      "cell_type": "code",
      "metadata": {
        "colab": {
          "base_uri": "https://localhost:8080/"
        },
        "id": "J6SSoEmfzTzy",
        "outputId": "95479633-2f02-49cc-965e-290783cee303"
      },
      "source": [
        "get_base_prediction_rate(cora[0])"
      ],
      "execution_count": null,
      "outputs": [
        {
          "output_type": "execute_result",
          "data": {
            "text/plain": [
              "0.302"
            ]
          },
          "metadata": {
            "tags": []
          },
          "execution_count": 56
        }
      ]
    },
    {
      "cell_type": "markdown",
      "metadata": {
        "id": "PicwXOg4S6TD"
      },
      "source": [
        "### Training set reduction\n",
        "\n",
        "* Training the GCN model on the Cora dataset training masks with the following sizes:\n",
        "    * __Test 1__: The default training mask\n",
        "    * __Test 2__: 75% of the default training mask\n",
        "    * __Test 3__: 50% of the default training mask\n",
        "    * __Test 4__: 25% of the default training mask\n",
        "    * __Test 5__: 28 nodes\n",
        "    * __Test 6__: 21 nodes\n",
        "    * __Test 7__: 14 nodes\n",
        "    * __Test 8__: 7 nodes (Smallest mask possible)"
      ]
    },
    {
      "cell_type": "code",
      "metadata": {
        "colab": {
          "base_uri": "https://localhost:8080/",
          "height": 17
        },
        "id": "gxep3l9pZEWs",
        "outputId": "74dc7ee1-a80f-496a-c3b5-8d05631b849e"
      },
      "source": [
        "# There is an error when going below 7 (which is the number of classes)\n",
        "train_sizes = [1.0, 0.75, 0.5, 0.25] + [28, 21, 14, 7]\n",
        "outcome = perform_test_series(dataset, train_sizes)"
      ],
      "execution_count": null,
      "outputs": [
        {
          "output_type": "display_data",
          "data": {
            "application/javascript": [
              "google.colab.output.setIframeHeight(0, true, {maxHeight: 300})"
            ],
            "text/plain": [
              "<IPython.core.display.Javascript object>"
            ]
          },
          "metadata": {
            "tags": []
          }
        },
        {
          "output_type": "display_data",
          "data": {
            "application/javascript": [
              "google.colab.output.setIframeHeight(0, true, {maxHeight: 300})"
            ],
            "text/plain": [
              "<IPython.core.display.Javascript object>"
            ]
          },
          "metadata": {
            "tags": []
          }
        },
        {
          "output_type": "display_data",
          "data": {
            "application/javascript": [
              "google.colab.output.setIframeHeight(0, true, {maxHeight: 300})"
            ],
            "text/plain": [
              "<IPython.core.display.Javascript object>"
            ]
          },
          "metadata": {
            "tags": []
          }
        },
        {
          "output_type": "display_data",
          "data": {
            "application/javascript": [
              "google.colab.output.setIframeHeight(0, true, {maxHeight: 300})"
            ],
            "text/plain": [
              "<IPython.core.display.Javascript object>"
            ]
          },
          "metadata": {
            "tags": []
          }
        },
        {
          "output_type": "display_data",
          "data": {
            "application/javascript": [
              "google.colab.output.setIframeHeight(0, true, {maxHeight: 300})"
            ],
            "text/plain": [
              "<IPython.core.display.Javascript object>"
            ]
          },
          "metadata": {
            "tags": []
          }
        },
        {
          "output_type": "display_data",
          "data": {
            "application/javascript": [
              "google.colab.output.setIframeHeight(0, true, {maxHeight: 300})"
            ],
            "text/plain": [
              "<IPython.core.display.Javascript object>"
            ]
          },
          "metadata": {
            "tags": []
          }
        },
        {
          "output_type": "display_data",
          "data": {
            "application/javascript": [
              "google.colab.output.setIframeHeight(0, true, {maxHeight: 300})"
            ],
            "text/plain": [
              "<IPython.core.display.Javascript object>"
            ]
          },
          "metadata": {
            "tags": []
          }
        },
        {
          "output_type": "display_data",
          "data": {
            "application/javascript": [
              "google.colab.output.setIframeHeight(0, true, {maxHeight: 300})"
            ],
            "text/plain": [
              "<IPython.core.display.Javascript object>"
            ]
          },
          "metadata": {
            "tags": []
          }
        }
      ]
    },
    {
      "cell_type": "markdown",
      "metadata": {
        "id": "50NZFKgS6S8P"
      },
      "source": [
        "##### Test outcome analysis"
      ]
    },
    {
      "cell_type": "markdown",
      "metadata": {
        "id": "ubgwn0m4Cjz-"
      },
      "source": [
        "**Accuray over different tests**\n",
        "\n",
        "Visiblyon the two graphs below, the default training set can be reduced to 50% and even 25% of its original size (Test 1 size: 140, Test 3 size: 70, Test 4 size: 35) while still performing with a near intact accuracy (Test 1: 81.4%, Test 3: 77.5%, Test 4: 75.6%). \n",
        "<br>\n",
        "<br>\n",
        "<br>\n",
        "\n",
        "\n",
        "..._That's only about 5% decrease in accuracy!_"
      ]
    },
    {
      "cell_type": "code",
      "metadata": {
        "id": "b-N3NVzaDa59"
      },
      "source": [
        "outcome['accuracy']['Accuracy change (%)'] = outcome['accuracy']['Accuracy (%)'].pct_change() * 100"
      ],
      "execution_count": null,
      "outputs": []
    },
    {
      "cell_type": "code",
      "metadata": {
        "colab": {
          "base_uri": "https://localhost:8080/",
          "height": 297
        },
        "id": "Xmesl323EieY",
        "outputId": "c8e74e0c-0608-4389-8ed8-6eb768d1b1c2"
      },
      "source": [
        "outcome['accuracy']"
      ],
      "execution_count": null,
      "outputs": [
        {
          "output_type": "execute_result",
          "data": {
            "text/html": [
              "<div>\n",
              "<style scoped>\n",
              "    .dataframe tbody tr th:only-of-type {\n",
              "        vertical-align: middle;\n",
              "    }\n",
              "\n",
              "    .dataframe tbody tr th {\n",
              "        vertical-align: top;\n",
              "    }\n",
              "\n",
              "    .dataframe thead th {\n",
              "        text-align: right;\n",
              "    }\n",
              "</style>\n",
              "<table border=\"1\" class=\"dataframe\">\n",
              "  <thead>\n",
              "    <tr style=\"text-align: right;\">\n",
              "      <th></th>\n",
              "      <th>Number of training nodes</th>\n",
              "      <th>Accuracy (%)</th>\n",
              "      <th>Accuracy change (%)</th>\n",
              "    </tr>\n",
              "  </thead>\n",
              "  <tbody>\n",
              "    <tr>\n",
              "      <th>Test 1</th>\n",
              "      <td>140</td>\n",
              "      <td>0.814</td>\n",
              "      <td>NaN</td>\n",
              "    </tr>\n",
              "    <tr>\n",
              "      <th>Test 2</th>\n",
              "      <td>105</td>\n",
              "      <td>0.782</td>\n",
              "      <td>-3.931204</td>\n",
              "    </tr>\n",
              "    <tr>\n",
              "      <th>Test 3</th>\n",
              "      <td>70</td>\n",
              "      <td>0.764</td>\n",
              "      <td>-2.301790</td>\n",
              "    </tr>\n",
              "    <tr>\n",
              "      <th>Test 4</th>\n",
              "      <td>35</td>\n",
              "      <td>0.756</td>\n",
              "      <td>-1.047120</td>\n",
              "    </tr>\n",
              "    <tr>\n",
              "      <th>Test 5</th>\n",
              "      <td>28</td>\n",
              "      <td>0.681</td>\n",
              "      <td>-9.920635</td>\n",
              "    </tr>\n",
              "    <tr>\n",
              "      <th>Test 6</th>\n",
              "      <td>21</td>\n",
              "      <td>0.628</td>\n",
              "      <td>-7.782673</td>\n",
              "    </tr>\n",
              "    <tr>\n",
              "      <th>Test 7</th>\n",
              "      <td>14</td>\n",
              "      <td>0.447</td>\n",
              "      <td>-28.821656</td>\n",
              "    </tr>\n",
              "    <tr>\n",
              "      <th>Test 8</th>\n",
              "      <td>7</td>\n",
              "      <td>0.272</td>\n",
              "      <td>-39.149888</td>\n",
              "    </tr>\n",
              "  </tbody>\n",
              "</table>\n",
              "</div>"
            ],
            "text/plain": [
              "        Number of training nodes  Accuracy (%)  Accuracy change (%)\n",
              "Test 1                       140         0.814                  NaN\n",
              "Test 2                       105         0.782            -3.931204\n",
              "Test 3                        70         0.764            -2.301790\n",
              "Test 4                        35         0.756            -1.047120\n",
              "Test 5                        28         0.681            -9.920635\n",
              "Test 6                        21         0.628            -7.782673\n",
              "Test 7                        14         0.447           -28.821656\n",
              "Test 8                         7         0.272           -39.149888"
            ]
          },
          "metadata": {
            "tags": []
          },
          "execution_count": 84
        }
      ]
    },
    {
      "cell_type": "code",
      "metadata": {
        "colab": {
          "base_uri": "https://localhost:8080/",
          "height": 302
        },
        "id": "be9J0FDdaV7D",
        "outputId": "b19b4642-9de4-4eef-89c9-84372fee725c"
      },
      "source": [
        "ymax = outcome['accuracy']['Accuracy (%)'].max()+0.1\n",
        "ymin = outcome['accuracy']['Accuracy (%)'].min()-0.1\n",
        "outcome['accuracy'].plot(y='Accuracy (%)',kind='bar',ylim=(ymin, ymax))"
      ],
      "execution_count": null,
      "outputs": [
        {
          "output_type": "execute_result",
          "data": {
            "text/plain": [
              "<matplotlib.axes._subplots.AxesSubplot at 0x7fc46915ff98>"
            ]
          },
          "metadata": {
            "tags": []
          },
          "execution_count": 59
        },
        {
          "output_type": "display_data",
          "data": {
            "image/png": "[encoded data removed]",
            "text/plain": [
              "<Figure size 432x288 with 1 Axes>"
            ]
          },
          "metadata": {
            "tags": [],
            "needs_background": "light"
          }
        }
      ]
    },
    {
      "cell_type": "code",
      "metadata": {
        "colab": {
          "base_uri": "https://localhost:8080/",
          "height": 301
        },
        "id": "CK7titb12EOV",
        "outputId": "6fc29d92-2eba-4f51-d9f9-76de32828fc4"
      },
      "source": [
        "outcome['accuracy'].plot(y='Number of training nodes',kind='bar')"
      ],
      "execution_count": null,
      "outputs": [
        {
          "output_type": "execute_result",
          "data": {
            "text/plain": [
              "<matplotlib.axes._subplots.AxesSubplot at 0x7fc467dbae48>"
            ]
          },
          "metadata": {
            "tags": []
          },
          "execution_count": 87
        },
        {
          "output_type": "display_data",
          "data": {
            "image/png": "[encoded data removed]",
            "text/plain": [
              "<Figure size 432x288 with 1 Axes>"
            ]
          },
          "metadata": {
            "tags": [],
            "needs_background": "light"
          }
        }
      ]
    },
    {
      "cell_type": "code",
      "metadata": {
        "colab": {
          "base_uri": "https://localhost:8080/"
        },
        "id": "Pd78tgKWGVgg",
        "outputId": "1d72d882-f161-4027-d625-c2d0ab41d4c8"
      },
      "source": [
        "outcome"
      ],
      "execution_count": null,
      "outputs": [
        {
          "output_type": "execute_result",
          "data": {
            "text/plain": [
              "{'accuracy':         Number of training nodes  Accuracy (%)  Accuracy change (%)\n",
              " Test 1                       140         0.814                  NaN\n",
              " Test 2                       105         0.782            -3.931204\n",
              " Test 3                        70         0.764            -2.301790\n",
              " Test 4                        35         0.756            -1.047120\n",
              " Test 5                        28         0.681            -9.920635\n",
              " Test 6                        21         0.628            -7.782673\n",
              " Test 7                        14         0.447           -28.821656\n",
              " Test 8                         7         0.272           -39.149888,\n",
              " 'class_accuracy':                 0          1          2  ...          4          5        6\n",
              " Test 1  76.923080  85.714287  88.888885  ...  87.919464  78.640778  78.1250\n",
              " Test 2  83.076920  86.813187  88.888885  ...  79.865768  76.699028  62.5000\n",
              " Test 3  75.384613  84.615387  88.888885  ...  87.248322  66.019417  76.5625\n",
              " Test 4  67.692307  82.417580  87.500000  ...  67.785233  81.553398  75.0000\n",
              " Test 5  56.153847  89.010986  75.000000  ...  87.248322  71.844658  57.8125\n",
              " Test 6  61.538460  62.637363  90.277779  ...  80.536911  72.815536  79.6875\n",
              " Test 7  41.538460  91.208794  75.694443  ...  14.093960  75.728157  32.8125\n",
              " Test 8   0.769231  96.703300  44.444443  ...  22.147652  50.485435  21.8750\n",
              " \n",
              " [8 rows x 7 columns],\n",
              " 'correct_predtion':           0   1    2    3    4   5   6\n",
              " Test 1  100  78  128  246  131  81  50\n",
              " Test 2  108  79  128  229  119  79  40\n",
              " Test 3   98  77  128  214  130  68  49\n",
              " Test 4   88  75  126  234  101  84  48\n",
              " Test 5   73  81  108  178  130  74  37\n",
              " Test 6   80  57  130  115  120  75  51\n",
              " Test 7   54  83  109   81   21  78  21\n",
              " Test 8    1  88   64   20   33  52  14}"
            ]
          },
          "metadata": {
            "tags": []
          },
          "execution_count": 85
        }
      ]
    },
    {
      "cell_type": "markdown",
      "metadata": {
        "id": "m7_Vm7mrOGzA"
      },
      "source": [
        "### Attempt to better sample a default train set\n",
        "\n",
        "* Creating a custom training mask (using stratified sampling) containing 100% nodes of the default training mask"
      ]
    },
    {
      "cell_type": "markdown",
      "metadata": {
        "id": "U7PMUkcDUVOF"
      },
      "source": [
        "##### Prepare dataset"
      ]
    },
    {
      "cell_type": "code",
      "metadata": {
        "colab": {
          "base_uri": "https://localhost:8080/"
        },
        "id": "-Z2jZfrjUGmp",
        "outputId": "931ae13b-a992-4f45-c0de-48424868448f"
      },
      "source": [
        "data_test_5 = dataset[0]\n",
        "\n",
        "all_classes = data_test_5.y.numpy()\n",
        "new_train_indices, _ = train_test_split(np.arange(len(all_classes)),\n",
        "                                        train_size=140,\n",
        "                                        stratify=all_classes)\n",
        "\n",
        "new_train_mask = torch.zeros(data_test_5.num_nodes, dtype=torch.bool)\n",
        "new_train_mask[new_train_indices] = True\n",
        "data_test_5.train_mask = new_train_mask\n",
        "\n",
        "print(f'Number of new train nodes: {int(new_train_mask.sum())}')"
      ],
      "execution_count": null,
      "outputs": [
        {
          "output_type": "stream",
          "text": [
            "Number of new train nodes: 140\n"
          ],
          "name": "stdout"
        }
      ]
    },
    {
      "cell_type": "markdown",
      "metadata": {
        "id": "a-NWanlYXji-"
      },
      "source": [
        "##### Create and train the model"
      ]
    },
    {
      "cell_type": "code",
      "metadata": {
        "colab": {
          "base_uri": "https://localhost:8080/"
        },
        "id": "8CNySjKbXji-",
        "outputId": "b523cba1-5ef3-489d-f8d0-355f6be6210e"
      },
      "source": [
        "model_test_5 = GCN(hidden_channels=16, dataset=dataset)\n",
        "optimizer_test_5 = torch.optim.Adam(model_test_5.parameters(), lr=0.01, weight_decay=5e-4)\n",
        "criterion_test_5 = torch.nn.CrossEntropyLoss()\n",
        "\n",
        "train_epochs(model_test_5, data_test_5, optimizer_test_5, criterion_test_5, 200, [50, 100, 150, 200])"
      ],
      "execution_count": null,
      "outputs": [
        {
          "output_type": "stream",
          "text": [
            "Epoch: 050\n",
            "\tLoss: 1.2531\n",
            "\tAccuracy: 55.80\n",
            "\n",
            "Epoch: 100\n",
            "\tLoss: 0.7701\n",
            "\tAccuracy: 75.00\n",
            "\n",
            "Epoch: 150\n",
            "\tLoss: 0.6066\n",
            "\tAccuracy: 79.70\n",
            "\n",
            "Epoch: 200\n",
            "\tLoss: 0.4286\n",
            "\tAccuracy: 82.00\n",
            "\n"
          ],
          "name": "stdout"
        }
      ]
    },
    {
      "cell_type": "markdown",
      "metadata": {
        "id": "sJzi3PoWXji-"
      },
      "source": [
        "##### Conclusion\n",
        "\n",
        "* The accuracy of a model trained on this training dataset is actually lower than the default training dataset, therefore I'm assuming it's not worth exploring"
      ]
    },
    {
      "cell_type": "code",
      "metadata": {
        "colab": {
          "base_uri": "https://localhost:8080/",
          "height": 300
        },
        "id": "DjGf2pFZXji-",
        "outputId": "902dfc9a-eb17-4773-dded-acc0ca8db21c"
      },
      "source": [
        "test_5_accuracy, test_5_correctly_predicted = test_accuracy_distribution(model_test_5, data_test_5)"
      ],
      "execution_count": null,
      "outputs": [
        {
          "output_type": "display_data",
          "data": {
            "application/javascript": [
              "google.colab.output.setIframeHeight(0, true, {maxHeight: 300})"
            ],
            "text/plain": [
              "<IPython.core.display.Javascript object>"
            ]
          },
          "metadata": {
            "tags": []
          }
        },
        {
          "output_type": "stream",
          "text": [
            "Test classes:\n",
            "\n",
            "Class 0:         \n",
            "\tCorrect nodes: 102        \n",
            "\tTest nodes: 130        \n",
            "\tTest representation: 37.04%        \n",
            "\tAccuracy: 78.46%\n",
            "\n",
            "Class 1:         \n",
            "\tCorrect nodes: 63        \n",
            "\tTest nodes: 91        \n",
            "\tTest representation: 41.94%        \n",
            "\tAccuracy: 69.23%\n",
            "\n",
            "Class 2:         \n",
            "\tCorrect nodes: 130        \n",
            "\tTest nodes: 144        \n",
            "\tTest representation: 34.45%        \n",
            "\tAccuracy: 90.28%\n",
            "\n",
            "Class 3:         \n",
            "\tCorrect nodes: 283        \n",
            "\tTest nodes: 319        \n",
            "\tTest representation: 39.00%        \n",
            "\tAccuracy: 88.71%\n",
            "\n",
            "Class 4:         \n",
            "\tCorrect nodes: 118        \n",
            "\tTest nodes: 149        \n",
            "\tTest representation: 34.98%        \n",
            "\tAccuracy: 79.19%\n",
            "\n",
            "Class 5:         \n",
            "\tCorrect nodes: 80        \n",
            "\tTest nodes: 103        \n",
            "\tTest representation: 34.56%        \n",
            "\tAccuracy: 77.67%\n",
            "\n",
            "Class 6:         \n",
            "\tCorrect nodes: 34        \n",
            "\tTest nodes: 64        \n",
            "\tTest representation: 35.56%        \n",
            "\tAccuracy: 53.12%\n"
          ],
          "name": "stdout"
        }
      ]
    },
    {
      "cell_type": "markdown",
      "metadata": {
        "id": "fcwGG2PAKFJZ"
      },
      "source": [
        "# Pubmed Dataset\n",
        "\n",
        "PubMed dataset, while similar to the Cora dataset used before is quite larger.\n",
        "The dataset contains more than 19 000 node in it's graph (Comparing with about 2500 in Cora). Another difference betwwen the dataset is the amount of node classes; PubMed has 3 while Cora has 7.\n",
        "\n",
        "\n",
        "<br>\n",
        "\n",
        "\n",
        "It's similarities and differences with Cora makes the PubMed dataset a good candidate to perform further analysis on."
      ]
    },
    {
      "cell_type": "markdown",
      "metadata": {
        "id": "DxURLYJoQjtE"
      },
      "source": [
        "### Dataset setup\n",
        "\n",
        "* Get thedataset\n",
        "* Print out useful insights into the dataset"
      ]
    },
    {
      "cell_type": "code",
      "metadata": {
        "colab": {
          "base_uri": "https://localhost:8080/"
        },
        "id": "p68TxLJDQjtE",
        "outputId": "859915e6-571c-475c-be96-8194031bded1"
      },
      "source": [
        "pubmed = Planetoid(root='data/Planetoid', name='PubMed', transform=NormalizeFeatures())\n",
        "print_dataset_details(pubmed)"
      ],
      "execution_count": null,
      "outputs": [
        {
          "output_type": "stream",
          "text": [
            "Downloading https://github.com/kimiyoung/planetoid/raw/master/data/ind.pubmed.x\n",
            "Downloading https://github.com/kimiyoung/planetoid/raw/master/data/ind.pubmed.tx\n",
            "Downloading https://github.com/kimiyoung/planetoid/raw/master/data/ind.pubmed.allx\n",
            "Downloading https://github.com/kimiyoung/planetoid/raw/master/data/ind.pubmed.y\n",
            "Downloading https://github.com/kimiyoung/planetoid/raw/master/data/ind.pubmed.ty\n",
            "Downloading https://github.com/kimiyoung/planetoid/raw/master/data/ind.pubmed.ally\n",
            "Downloading https://github.com/kimiyoung/planetoid/raw/master/data/ind.pubmed.graph\n",
            "Downloading https://github.com/kimiyoung/planetoid/raw/master/data/ind.pubmed.test.index\n",
            "Processing...\n",
            "Done!\n",
            "\n",
            "Dataset: PubMed():\n",
            "======================\n",
            "Number of graphs: 1\n",
            "Number of features: 500\n",
            "Number of classes: 3\n",
            "\n",
            "Data(edge_index=[2, 88648], test_mask=[19717], train_mask=[19717], val_mask=[19717], x=[19717, 500], y=[19717])\n",
            "===========================================================================================================\n",
            "Number of nodes: 19717\n",
            "Number of edges: 88648\n",
            "Average node degree: 4.50\n",
            "Number of training nodes: 60\n",
            "Training node label rate: 0.00\n",
            "Contains isolated nodes: False\n",
            "Contains self-loops: False\n",
            "Is undirected: True\n"
          ],
          "name": "stdout"
        }
      ]
    },
    {
      "cell_type": "markdown",
      "metadata": {
        "id": "t0qrfZwj44DX"
      },
      "source": [
        "### Base prediction rate\n",
        "\n",
        "This is an estimation of what is the lowest plausible accuracy for a specified datased "
      ]
    },
    {
      "cell_type": "code",
      "metadata": {
        "colab": {
          "base_uri": "https://localhost:8080/"
        },
        "id": "_Sxhb27k44DX",
        "outputId": "73cc923a-3044-48d3-a6f5-26f61a5f8f0b"
      },
      "source": [
        "get_base_prediction_rate(pubmed[0])"
      ],
      "execution_count": null,
      "outputs": [
        {
          "output_type": "execute_result",
          "data": {
            "text/plain": [
              "0.399"
            ]
          },
          "metadata": {
            "tags": []
          },
          "execution_count": 59
        }
      ]
    },
    {
      "cell_type": "markdown",
      "metadata": {
        "id": "NdzOiJcZ_0rX"
      },
      "source": [
        "### Training set reduction\n",
        "\n",
        "* Training the GCN model on the Cora dataset training masks with the following sizes:\n",
        "    * __Test 1__: The default training mask\n",
        "    * __Test 2__: 75% of the default training mask\n",
        "    * __Test 3__: 50% of the default training mask\n",
        "    * __Test 4__: 25% of the default training mask\n",
        "    * __Test 5__: 9 nodes\n",
        "    * __Test 6__: 6 nodes\n",
        "    * __Test 7__: 3 nodes (Smallest mask possible)"
      ]
    },
    {
      "cell_type": "code",
      "metadata": {
        "colab": {
          "base_uri": "https://localhost:8080/",
          "height": 17
        },
        "id": "GHrnrj4kPaym",
        "outputId": "ce01956b-6c08-40db-dece-0f70cfbbfc89"
      },
      "source": [
        "train_sizes = [1.0, 0.75, 0.5, 0.25] + [9, 6, 3]\n",
        "outcome = perform_test_series(pubmed, train_sizes)"
      ],
      "execution_count": null,
      "outputs": [
        {
          "output_type": "display_data",
          "data": {
            "application/javascript": [
              "google.colab.output.setIframeHeight(0, true, {maxHeight: 300})"
            ],
            "text/plain": [
              "<IPython.core.display.Javascript object>"
            ]
          },
          "metadata": {
            "tags": []
          }
        },
        {
          "output_type": "display_data",
          "data": {
            "application/javascript": [
              "google.colab.output.setIframeHeight(0, true, {maxHeight: 300})"
            ],
            "text/plain": [
              "<IPython.core.display.Javascript object>"
            ]
          },
          "metadata": {
            "tags": []
          }
        },
        {
          "output_type": "display_data",
          "data": {
            "application/javascript": [
              "google.colab.output.setIframeHeight(0, true, {maxHeight: 300})"
            ],
            "text/plain": [
              "<IPython.core.display.Javascript object>"
            ]
          },
          "metadata": {
            "tags": []
          }
        },
        {
          "output_type": "display_data",
          "data": {
            "application/javascript": [
              "google.colab.output.setIframeHeight(0, true, {maxHeight: 300})"
            ],
            "text/plain": [
              "<IPython.core.display.Javascript object>"
            ]
          },
          "metadata": {
            "tags": []
          }
        },
        {
          "output_type": "display_data",
          "data": {
            "application/javascript": [
              "google.colab.output.setIframeHeight(0, true, {maxHeight: 300})"
            ],
            "text/plain": [
              "<IPython.core.display.Javascript object>"
            ]
          },
          "metadata": {
            "tags": []
          }
        },
        {
          "output_type": "display_data",
          "data": {
            "application/javascript": [
              "google.colab.output.setIframeHeight(0, true, {maxHeight: 300})"
            ],
            "text/plain": [
              "<IPython.core.display.Javascript object>"
            ]
          },
          "metadata": {
            "tags": []
          }
        },
        {
          "output_type": "display_data",
          "data": {
            "application/javascript": [
              "google.colab.output.setIframeHeight(0, true, {maxHeight: 300})"
            ],
            "text/plain": [
              "<IPython.core.display.Javascript object>"
            ]
          },
          "metadata": {
            "tags": []
          }
        }
      ]
    },
    {
      "cell_type": "code",
      "metadata": {
        "colab": {
          "base_uri": "https://localhost:8080/",
          "height": 301
        },
        "id": "vFN8RrUh-_O8",
        "outputId": "fa2b0cfd-6330-42f8-95de-89f301c8231e"
      },
      "source": [
        "ymax = outcome['accuracy']['Accuracy (%)'].max()+0.1\n",
        "ymin = outcome['accuracy']['Accuracy (%)'].min()-0.1\n",
        "outcome['accuracy'].plot(y='Accuracy (%)',kind='bar',ylim=(ymin, ymax))"
      ],
      "execution_count": null,
      "outputs": [
        {
          "output_type": "execute_result",
          "data": {
            "text/plain": [
              "<matplotlib.axes._subplots.AxesSubplot at 0x7fe7a473f630>"
            ]
          },
          "metadata": {
            "tags": []
          },
          "execution_count": 17
        },
        {
          "output_type": "display_data",
          "data": {
            "image/png": "[encoded data removed]",
            "text/plain": [
              "<Figure size 432x288 with 1 Axes>"
            ]
          },
          "metadata": {
            "tags": [],
            "needs_background": "light"
          }
        }
      ]
    },
    {
      "cell_type": "code",
      "metadata": {
        "colab": {
          "base_uri": "https://localhost:8080/",
          "height": 301
        },
        "id": "2SE1Y94a-_O9",
        "outputId": "c4e20061-1550-4f9a-8ccc-de667ae6c59c"
      },
      "source": [
        "outcome['accuracy'].plot(y='Number of training nodes',kind='bar')"
      ],
      "execution_count": null,
      "outputs": [
        {
          "output_type": "execute_result",
          "data": {
            "text/plain": [
              "<matplotlib.axes._subplots.AxesSubplot at 0x7fe7a4804898>"
            ]
          },
          "metadata": {
            "tags": []
          },
          "execution_count": 18
        },
        {
          "output_type": "display_data",
          "data": {
            "image/png": "[encoded data removed]",
            "text/plain": [
              "<Figure size 432x288 with 1 Axes>"
            ]
          },
          "metadata": {
            "tags": [],
            "needs_background": "light"
          }
        }
      ]
    },
    {
      "cell_type": "code",
      "metadata": {
        "colab": {
          "base_uri": "https://localhost:8080/"
        },
        "id": "ZJpke0yTSrwf",
        "outputId": "f5d63c94-b495-4004-ff42-6a68dd0a67ce"
      },
      "source": [
        "outcome"
      ],
      "execution_count": null,
      "outputs": [
        {
          "output_type": "execute_result",
          "data": {
            "text/plain": [
              "{'accuracy':         Number of training nodes  Accuracy (%)  Accuracy change (%)\n",
              " Test 1                        60         0.786                  NaN\n",
              " Test 2                        45         0.760            -3.307888\n",
              " Test 3                        30         0.727            -4.342105\n",
              " Test 4                        15         0.720            -0.962861\n",
              " Test 5                         9         0.636           -11.666667\n",
              " Test 6                         6         0.546           -14.150943\n",
              " Test 7                         3         0.585             7.142857,\n",
              " 'class_accuracy':                 0          1          2\n",
              " Test 1  78.333336  82.324455  74.938576\n",
              " Test 2  78.888885  80.387405  70.270271\n",
              " Test 3  83.888885  67.312347  73.218674\n",
              " Test 4  81.111115  75.302666  64.619164\n",
              " Test 5  92.777779  69.491524  44.717445\n",
              " Test 6  76.666664  55.205811  44.226044\n",
              " Test 7  57.777779  69.975784  47.174446,\n",
              " 'correct_predtion':           0    1    2\n",
              " Test 1  141  340  305\n",
              " Test 2  142  332  286\n",
              " Test 3  151  278  298\n",
              " Test 4  146  311  263\n",
              " Test 5  167  287  182\n",
              " Test 6  138  228  180\n",
              " Test 7  104  289  192,\n",
              " 'models': {'Test 1': GCN(\n",
              "    (conv1): GCNConv(500, 16)\n",
              "    (conv2): GCNConv(16, 3)\n",
              "  ), 'Test 2': GCN(\n",
              "    (conv1): GCNConv(500, 16)\n",
              "    (conv2): GCNConv(16, 3)\n",
              "  ), 'Test 3': GCN(\n",
              "    (conv1): GCNConv(500, 16)\n",
              "    (conv2): GCNConv(16, 3)\n",
              "  ), 'Test 4': GCN(\n",
              "    (conv1): GCNConv(500, 16)\n",
              "    (conv2): GCNConv(16, 3)\n",
              "  ), 'Test 5': GCN(\n",
              "    (conv1): GCNConv(500, 16)\n",
              "    (conv2): GCNConv(16, 3)\n",
              "  ), 'Test 6': GCN(\n",
              "    (conv1): GCNConv(500, 16)\n",
              "    (conv2): GCNConv(16, 3)\n",
              "  ), 'Test 7': GCN(\n",
              "    (conv1): GCNConv(500, 16)\n",
              "    (conv2): GCNConv(16, 3)\n",
              "  )}}"
            ]
          },
          "metadata": {
            "tags": []
          },
          "execution_count": 16
        }
      ]
    },
    {
      "cell_type": "markdown",
      "metadata": {
        "id": "nSiMt0jvqMiq"
      },
      "source": [
        "# CiteSeer Dataset"
      ]
    },
    {
      "cell_type": "markdown",
      "metadata": {
        "id": "vbNM4EkerGjL"
      },
      "source": [
        "### Dataset setup\n",
        "\n",
        "* Get the dataset\n",
        "* Print out useful insights into the dataset"
      ]
    },
    {
      "cell_type": "code",
      "metadata": {
        "colab": {
          "base_uri": "https://localhost:8080/"
        },
        "id": "Oze741cqq2Rf",
        "outputId": "86884238-9f7f-4cb7-fb41-494c2b5fa942"
      },
      "source": [
        "citeseer = Planetoid(root='data/Planetoid', name='CiteSeer', transform=NormalizeFeatures())\n",
        "print_dataset_details(citeseer)"
      ],
      "execution_count": null,
      "outputs": [
        {
          "output_type": "stream",
          "text": [
            "Downloading https://github.com/kimiyoung/planetoid/raw/master/data/ind.citeseer.x\n",
            "Downloading https://github.com/kimiyoung/planetoid/raw/master/data/ind.citeseer.tx\n",
            "Downloading https://github.com/kimiyoung/planetoid/raw/master/data/ind.citeseer.allx\n",
            "Downloading https://github.com/kimiyoung/planetoid/raw/master/data/ind.citeseer.y\n",
            "Downloading https://github.com/kimiyoung/planetoid/raw/master/data/ind.citeseer.ty\n",
            "Downloading https://github.com/kimiyoung/planetoid/raw/master/data/ind.citeseer.ally\n",
            "Downloading https://github.com/kimiyoung/planetoid/raw/master/data/ind.citeseer.graph\n",
            "Downloading https://github.com/kimiyoung/planetoid/raw/master/data/ind.citeseer.test.index\n",
            "Processing...\n",
            "Done!\n",
            "\n",
            "Dataset: CiteSeer():\n",
            "======================\n",
            "Number of graphs: 1\n",
            "Number of features: 3703\n",
            "Number of classes: 6\n",
            "\n",
            "Data(edge_index=[2, 9104], test_mask=[3327], train_mask=[3327], val_mask=[3327], x=[3327, 3703], y=[3327])\n",
            "===========================================================================================================\n",
            "Number of nodes: 3327\n",
            "Number of edges: 9104\n",
            "Average node degree: 2.74\n",
            "Number of training nodes: 120\n",
            "Training node label rate: 0.04\n",
            "Contains isolated nodes: True\n",
            "Contains self-loops: False\n",
            "Is undirected: True\n"
          ],
          "name": "stdout"
        }
      ]
    },
    {
      "cell_type": "markdown",
      "metadata": {
        "id": "Ooc87U5c5BGe"
      },
      "source": [
        "### Base prediction rate\n",
        "\n",
        "This is an estimation of what is the lowest plausible accuracy for a specified datased "
      ]
    },
    {
      "cell_type": "code",
      "metadata": {
        "colab": {
          "base_uri": "https://localhost:8080/"
        },
        "id": "sf27R3Uy5BGe",
        "outputId": "5b8d7e5f-c524-4729-bf79-6521ac0bcab3"
      },
      "source": [
        "citeseer_base = get_base_prediction_rate(citeseer[0])\n",
        "citeseer_base"
      ],
      "execution_count": null,
      "outputs": [
        {
          "output_type": "execute_result",
          "data": {
            "text/plain": [
              "0.211"
            ]
          },
          "metadata": {
            "tags": []
          },
          "execution_count": 81
        }
      ]
    },
    {
      "cell_type": "markdown",
      "metadata": {
        "id": "oe4QT68-q2Rg"
      },
      "source": [
        "### Training set reduction\n",
        "\n",
        "* Training the GCN model on the Cora dataset training masks with the following sizes:\n",
        "    * __Test 1__: The default training mask\n",
        "    * __Test 2__: 75% of the default training mask\n",
        "    * __Test 3__: 50% of the default training mask\n",
        "    * __Test 4__: 25% of the default training mask\n",
        "    * __Test 5__: 24 nodes\n",
        "    * __Test 6__: 18 nodes\n",
        "    * __Test 6__: 12 nodes\n",
        "    * __Test 7__: 6 nodes (Smallest mask possible)"
      ]
    },
    {
      "cell_type": "code",
      "metadata": {
        "id": "3UPZ5Iv_q2Rh"
      },
      "source": [
        "train_sizes = [1.0, 0.75, 0.5, 0.25] + [24, 18, 12, 6]\n",
        "outcome = perform_test_series(citeseer, train_sizes)"
      ],
      "execution_count": null,
      "outputs": []
    },
    {
      "cell_type": "code",
      "metadata": {
        "colab": {
          "base_uri": "https://localhost:8080/",
          "height": 301
        },
        "id": "CeTtZ6IXq2Rh",
        "outputId": "e257ec49-f582-4e29-db8f-d37b9ddfb581"
      },
      "source": [
        "ymax = outcome['accuracy']['Accuracy (%)'].max()+0.1\n",
        "ymin = outcome['accuracy']['Accuracy (%)'].min()-0.1\n",
        "outcome['accuracy'].plot(y='Accuracy (%)',kind='bar',ylim=(ymin, ymax))"
      ],
      "execution_count": null,
      "outputs": [
        {
          "output_type": "execute_result",
          "data": {
            "text/plain": [
              "<matplotlib.axes._subplots.AxesSubplot at 0x7f3065ed35c0>"
            ]
          },
          "metadata": {
            "tags": []
          },
          "execution_count": 78
        },
        {
          "output_type": "display_data",
          "data": {
            "image/png": "[encoded data removed]",
            "text/plain": [
              "<Figure size 432x288 with 1 Axes>"
            ]
          },
          "metadata": {
            "tags": [],
            "needs_background": "light"
          }
        }
      ]
    },
    {
      "cell_type": "code",
      "metadata": {
        "colab": {
          "base_uri": "https://localhost:8080/",
          "height": 301
        },
        "id": "arpeDsn0q2Ri",
        "outputId": "d1201910-1522-4754-9b69-360ae4f497f1"
      },
      "source": [
        "outcome['accuracy'].plot(y='Number of training nodes',kind='bar')"
      ],
      "execution_count": null,
      "outputs": [
        {
          "output_type": "execute_result",
          "data": {
            "text/plain": [
              "<matplotlib.axes._subplots.AxesSubplot at 0x7f30dbcdfba8>"
            ]
          },
          "metadata": {
            "tags": []
          },
          "execution_count": 79
        },
        {
          "output_type": "display_data",
          "data": {
            "image/png": "[encoded data removed]",
            "text/plain": [
              "<Figure size 432x288 with 1 Axes>"
            ]
          },
          "metadata": {
            "tags": [],
            "needs_background": "light"
          }
        }
      ]
    },
    {
      "cell_type": "code",
      "metadata": {
        "colab": {
          "base_uri": "https://localhost:8080/"
        },
        "id": "thH4g6L0q2Ri",
        "outputId": "a7c8b878-a306-48c2-e0b6-970802573204"
      },
      "source": [
        "outcome"
      ],
      "execution_count": null,
      "outputs": [
        {
          "output_type": "execute_result",
          "data": {
            "text/plain": [
              "{'accuracy':         Number of training nodes  Accuracy (%)  Accuracy change (%)\n",
              " Test 1                       120         0.712                  NaN\n",
              " Test 2                        90         0.721             1.264045\n",
              " Test 3                        60         0.684            -5.131761\n",
              " Test 4                        30         0.578           -15.497076\n",
              " Test 5                        24         0.505           -12.629758\n",
              " Test 6                        18         0.531             5.148515\n",
              " Test 7                        12         0.342           -35.593220\n",
              " Test 8                         6         0.286           -16.374269,\n",
              " 'class_accuracy':                 0          1          2          3          4       5\n",
              " Test 1  32.467533  62.087914  75.690605  73.593071  79.881660  82.500\n",
              " Test 2  36.363636  68.131866  74.585632  73.160172  84.023666  76.875\n",
              " Test 3  29.870131  58.791210  77.348068  70.995674  79.881660  71.875\n",
              " Test 4  23.376623  27.472527  46.961327  78.787880  86.982246  60.000\n",
              " Test 5  12.987013  46.153847  62.983425  17.748919  95.266273  59.375\n",
              " Test 6   9.090909  65.384613   3.867403  79.220779  94.082840  35.000\n",
              " Test 7  22.077923   4.395605  93.370163  14.285714  17.751480  53.125\n",
              " Test 8   2.597403  66.483513   2.209945  34.199135   7.692307  41.875,\n",
              " 'correct_predtion':          0    1    2    3    4    5\n",
              " Test 1  25  113  137  170  135  132\n",
              " Test 2  28  124  135  169  142  123\n",
              " Test 3  23  107  140  164  135  115\n",
              " Test 4  18   50   85  182  147   96\n",
              " Test 5  10   84  114   41  161   95\n",
              " Test 6   7  119    7  183  159   56\n",
              " Test 7  17    8  169   33   30   85\n",
              " Test 8   2  121    4   79   13   67,\n",
              " 'models': {'Test 1': GCN(\n",
              "    (conv1): GCNConv(3703, 16)\n",
              "    (conv2): GCNConv(16, 6)\n",
              "  ), 'Test 2': GCN(\n",
              "    (conv1): GCNConv(3703, 16)\n",
              "    (conv2): GCNConv(16, 6)\n",
              "  ), 'Test 3': GCN(\n",
              "    (conv1): GCNConv(3703, 16)\n",
              "    (conv2): GCNConv(16, 6)\n",
              "  ), 'Test 4': GCN(\n",
              "    (conv1): GCNConv(3703, 16)\n",
              "    (conv2): GCNConv(16, 6)\n",
              "  ), 'Test 5': GCN(\n",
              "    (conv1): GCNConv(3703, 16)\n",
              "    (conv2): GCNConv(16, 6)\n",
              "  ), 'Test 6': GCN(\n",
              "    (conv1): GCNConv(3703, 16)\n",
              "    (conv2): GCNConv(16, 6)\n",
              "  ), 'Test 7': GCN(\n",
              "    (conv1): GCNConv(3703, 16)\n",
              "    (conv2): GCNConv(16, 6)\n",
              "  ), 'Test 8': GCN(\n",
              "    (conv1): GCNConv(3703, 16)\n",
              "    (conv2): GCNConv(16, 6)\n",
              "  )}}"
            ]
          },
          "metadata": {
            "tags": []
          },
          "execution_count": 82
        }
      ]
    },
    {
      "cell_type": "code",
      "metadata": {
        "colab": {
          "base_uri": "https://localhost:8080/"
        },
        "id": "MGwiGlFB-D0g",
        "outputId": "c8197a29-414f-4104-a38b-724f725d2a41"
      },
      "source": [
        ""
      ],
      "execution_count": null,
      "outputs": [
        {
          "output_type": "stream",
          "text": [
            "-1\n",
            "0\n",
            "1\n",
            "2\n",
            "3\n",
            "4\n",
            "5\n"
          ],
          "name": "stdout"
        }
      ]
    },
    {
      "cell_type": "code",
      "metadata": {
        "id": "f9wInI1c-E5y"
      },
      "source": [
        ""
      ],
      "execution_count": null,
      "outputs": []
    }
  ]
}